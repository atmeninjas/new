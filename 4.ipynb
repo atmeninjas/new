{
 "cells": [
  {
   "cell_type": "code",
   "execution_count": 4,
   "id": "d9ea4193-c72d-4bce-b671-a0b0c0ce5cd8",
   "metadata": {},
   "outputs": [
    {
     "name": "stdout",
     "output_type": "stream",
     "text": [
      "Requirement already satisfied: transformers in c:\\users\\shrey\\anaconda3\\lib\\site-packages (4.52.4)\n",
      "Requirement already satisfied: filelock in c:\\users\\shrey\\anaconda3\\lib\\site-packages (from transformers) (3.13.1)\n",
      "Requirement already satisfied: huggingface-hub<1.0,>=0.30.0 in c:\\users\\shrey\\anaconda3\\lib\\site-packages (from transformers) (0.32.4)\n",
      "Requirement already satisfied: numpy>=1.17 in c:\\users\\shrey\\anaconda3\\lib\\site-packages (from transformers) (1.26.4)\n",
      "Requirement already satisfied: packaging>=20.0 in c:\\users\\shrey\\anaconda3\\lib\\site-packages (from transformers) (24.1)\n",
      "Requirement already satisfied: pyyaml>=5.1 in c:\\users\\shrey\\anaconda3\\lib\\site-packages (from transformers) (6.0.1)\n",
      "Requirement already satisfied: regex!=2019.12.17 in c:\\users\\shrey\\anaconda3\\lib\\site-packages (from transformers) (2024.9.11)\n",
      "Requirement already satisfied: requests in c:\\users\\shrey\\anaconda3\\lib\\site-packages (from transformers) (2.32.3)\n",
      "Requirement already satisfied: tokenizers<0.22,>=0.21 in c:\\users\\shrey\\anaconda3\\lib\\site-packages (from transformers) (0.21.1)\n",
      "Requirement already satisfied: safetensors>=0.4.3 in c:\\users\\shrey\\anaconda3\\lib\\site-packages (from transformers) (0.5.3)\n",
      "Requirement already satisfied: tqdm>=4.27 in c:\\users\\shrey\\anaconda3\\lib\\site-packages (from transformers) (4.66.5)\n",
      "Requirement already satisfied: fsspec>=2023.5.0 in c:\\users\\shrey\\anaconda3\\lib\\site-packages (from huggingface-hub<1.0,>=0.30.0->transformers) (2024.6.1)\n",
      "Requirement already satisfied: typing-extensions>=3.7.4.3 in c:\\users\\shrey\\anaconda3\\lib\\site-packages (from huggingface-hub<1.0,>=0.30.0->transformers) (4.11.0)\n",
      "Requirement already satisfied: colorama in c:\\users\\shrey\\anaconda3\\lib\\site-packages (from tqdm>=4.27->transformers) (0.4.6)\n",
      "Requirement already satisfied: charset-normalizer<4,>=2 in c:\\users\\shrey\\anaconda3\\lib\\site-packages (from requests->transformers) (3.3.2)\n",
      "Requirement already satisfied: idna<4,>=2.5 in c:\\users\\shrey\\anaconda3\\lib\\site-packages (from requests->transformers) (3.7)\n",
      "Requirement already satisfied: urllib3<3,>=1.21.1 in c:\\users\\shrey\\anaconda3\\lib\\site-packages (from requests->transformers) (2.2.3)\n",
      "Requirement already satisfied: certifi>=2017.4.17 in c:\\users\\shrey\\anaconda3\\lib\\site-packages (from requests->transformers) (2024.8.30)\n"
     ]
    },
    {
     "name": "stderr",
     "output_type": "stream",
     "text": [
      "C:\\Users\\shrey\\AppData\\Local\\Temp\\ipykernel_23856\\4203118489.py:6: DeprecationWarning: Call to deprecated `glove2word2vec` (KeyedVectors.load_word2vec_format(.., binary=False, no_header=True) loads GLoVE text vectors.).\n",
      "  glove2word2vec(glove_input_file, word2vec_output_file)\n"
     ]
    },
    {
     "name": "stdout",
     "output_type": "stream",
     "text": [
      "[('prince', 0.7682329416275024), ('queen', 0.7507690787315369), ('son', 0.7020888328552246), ('brother', 0.6985775828361511), ('monarch', 0.6977890729904175), ('throne', 0.691999077796936), ('kingdom', 0.6811409592628479), ('father', 0.6802029013633728), ('emperor', 0.6712858080863953), ('ii', 0.6676074266433716)]\n"
     ]
    }
   ],
   "source": [
    "!pip install transformers -U\n",
    "from gensim.scripts.glove2word2vec import glove2word2vec \n",
    "from gensim.models import KeyedVectors \n",
    "glove_input_file = \"glove.6B.100d.txt\" \n",
    "word2vec_output_file = \"glove.6B.100d.word2vec.txt\" \n",
    "glove2word2vec(glove_input_file, word2vec_output_file) \n",
    "model = KeyedVectors.load_word2vec_format(word2vec_output_file, binary=False) \n",
    "print(model.most_similar(\"king\"))"
   ]
  },
  {
   "cell_type": "code",
   "execution_count": 5,
   "id": "d7cf6d01-e251-4571-804b-35d36fd537d4",
   "metadata": {},
   "outputs": [
    {
     "name": "stdout",
     "output_type": "stream",
     "text": [
      "Original Prompt: Explain the importance of vaccinations in healthcare.\n",
      "Enriched Prompt: Explain the importance of vaccinations in healthcare. Consider aspects like: immunizations, vaccination, inoculations, care, health, services.\n"
     ]
    }
   ],
   "source": [
    "original_prompt = \"Explain the importance of vaccinations in healthcare.\" \n",
    "key_terms = [\"vaccinations\", \"healthcare\"] \n",
    "similar_terms = [] \n",
    "for term in key_terms: \n",
    "    if term in model.key_to_index: \n",
    "        similar_terms.extend({word for word, _ in model.most_similar(term, topn=3)}) \n",
    "if similar_terms: \n",
    "    enriched_prompt = f\"{original_prompt} Consider aspects like: {', '.join(similar_terms)}.\" \n",
    "else: \n",
    "    enriched_prompt = original_prompt \n",
    "print(\"Original Prompt:\", original_prompt) \n",
    "print(\"Enriched Prompt:\", enriched_prompt) "
   ]
  },
  {
   "cell_type": "code",
   "execution_count": 6,
   "id": "977dbe7b-9e13-42ac-b60c-be0f119b615f",
   "metadata": {},
   "outputs": [
    {
     "name": "stdin",
     "output_type": "stream",
     "text": [
      "Enter your Google AI API key:  ········\n"
     ]
    }
   ],
   "source": [
    "import getpass \n",
    "import os \n",
    "GOOGLE_API_KEY= os.environ[\"GOOGLE_API_KEY\"] = getpass.getpass(\"Enter your Google AI API key: \") "
   ]
  },
  {
   "cell_type": "code",
   "execution_count": 7,
   "id": "79b8a6ee-09ac-4fb2-b573-1b921703b1f0",
   "metadata": {},
   "outputs": [
    {
     "name": "stdout",
     "output_type": "stream",
     "text": [
      "Collecting langchain_google_genai\n",
      "  Downloading langchain_google_genai-2.1.5-py3-none-any.whl.metadata (5.2 kB)\n",
      "Collecting filetype<2.0.0,>=1.2.0 (from langchain_google_genai)\n",
      "  Downloading filetype-1.2.0-py2.py3-none-any.whl.metadata (6.5 kB)\n",
      "Collecting google-ai-generativelanguage<0.7.0,>=0.6.18 (from langchain_google_genai)\n",
      "  Downloading google_ai_generativelanguage-0.6.18-py3-none-any.whl.metadata (9.8 kB)\n",
      "Collecting langchain-core<0.4.0,>=0.3.62 (from langchain_google_genai)\n",
      "  Downloading langchain_core-0.3.63-py3-none-any.whl.metadata (5.8 kB)\n",
      "Requirement already satisfied: pydantic<3,>=2 in c:\\users\\shrey\\anaconda3\\lib\\site-packages (from langchain_google_genai) (2.8.2)\n",
      "Collecting google-api-core!=2.0.*,!=2.1.*,!=2.10.*,!=2.2.*,!=2.3.*,!=2.4.*,!=2.5.*,!=2.6.*,!=2.7.*,!=2.8.*,!=2.9.*,<3.0.0,>=1.34.1 (from google-api-core[grpc]!=2.0.*,!=2.1.*,!=2.10.*,!=2.2.*,!=2.3.*,!=2.4.*,!=2.5.*,!=2.6.*,!=2.7.*,!=2.8.*,!=2.9.*,<3.0.0,>=1.34.1->google-ai-generativelanguage<0.7.0,>=0.6.18->langchain_google_genai)\n",
      "  Downloading google_api_core-2.25.0-py3-none-any.whl.metadata (3.0 kB)\n",
      "Collecting google-auth!=2.24.0,!=2.25.0,<3.0.0,>=2.14.1 (from google-ai-generativelanguage<0.7.0,>=0.6.18->langchain_google_genai)\n",
      "  Downloading google_auth-2.40.3-py2.py3-none-any.whl.metadata (6.2 kB)\n",
      "Collecting proto-plus<2.0.0,>=1.22.3 (from google-ai-generativelanguage<0.7.0,>=0.6.18->langchain_google_genai)\n",
      "  Downloading proto_plus-1.26.1-py3-none-any.whl.metadata (2.2 kB)\n",
      "Requirement already satisfied: protobuf!=4.21.0,!=4.21.1,!=4.21.2,!=4.21.3,!=4.21.4,!=4.21.5,<7.0.0,>=3.20.2 in c:\\users\\shrey\\anaconda3\\lib\\site-packages (from google-ai-generativelanguage<0.7.0,>=0.6.18->langchain_google_genai) (4.25.3)\n",
      "Collecting langsmith<0.4,>=0.1.126 (from langchain-core<0.4.0,>=0.3.62->langchain_google_genai)\n",
      "  Downloading langsmith-0.3.45-py3-none-any.whl.metadata (15 kB)\n",
      "Requirement already satisfied: tenacity!=8.4.0,<10.0.0,>=8.1.0 in c:\\users\\shrey\\anaconda3\\lib\\site-packages (from langchain-core<0.4.0,>=0.3.62->langchain_google_genai) (8.2.3)\n",
      "Requirement already satisfied: jsonpatch<2.0,>=1.33 in c:\\users\\shrey\\anaconda3\\lib\\site-packages (from langchain-core<0.4.0,>=0.3.62->langchain_google_genai) (1.33)\n",
      "Requirement already satisfied: PyYAML>=5.3 in c:\\users\\shrey\\anaconda3\\lib\\site-packages (from langchain-core<0.4.0,>=0.3.62->langchain_google_genai) (6.0.1)\n",
      "Requirement already satisfied: packaging<25,>=23.2 in c:\\users\\shrey\\anaconda3\\lib\\site-packages (from langchain-core<0.4.0,>=0.3.62->langchain_google_genai) (24.1)\n",
      "Requirement already satisfied: typing-extensions>=4.7 in c:\\users\\shrey\\anaconda3\\lib\\site-packages (from langchain-core<0.4.0,>=0.3.62->langchain_google_genai) (4.11.0)\n",
      "Requirement already satisfied: annotated-types>=0.4.0 in c:\\users\\shrey\\anaconda3\\lib\\site-packages (from pydantic<3,>=2->langchain_google_genai) (0.6.0)\n",
      "Requirement already satisfied: pydantic-core==2.20.1 in c:\\users\\shrey\\anaconda3\\lib\\site-packages (from pydantic<3,>=2->langchain_google_genai) (2.20.1)\n",
      "Collecting googleapis-common-protos<2.0.0,>=1.56.2 (from google-api-core!=2.0.*,!=2.1.*,!=2.10.*,!=2.2.*,!=2.3.*,!=2.4.*,!=2.5.*,!=2.6.*,!=2.7.*,!=2.8.*,!=2.9.*,<3.0.0,>=1.34.1->google-api-core[grpc]!=2.0.*,!=2.1.*,!=2.10.*,!=2.2.*,!=2.3.*,!=2.4.*,!=2.5.*,!=2.6.*,!=2.7.*,!=2.8.*,!=2.9.*,<3.0.0,>=1.34.1->google-ai-generativelanguage<0.7.0,>=0.6.18->langchain_google_genai)\n",
      "  Downloading googleapis_common_protos-1.70.0-py3-none-any.whl.metadata (9.3 kB)\n",
      "Requirement already satisfied: requests<3.0.0,>=2.18.0 in c:\\users\\shrey\\anaconda3\\lib\\site-packages (from google-api-core!=2.0.*,!=2.1.*,!=2.10.*,!=2.2.*,!=2.3.*,!=2.4.*,!=2.5.*,!=2.6.*,!=2.7.*,!=2.8.*,!=2.9.*,<3.0.0,>=1.34.1->google-api-core[grpc]!=2.0.*,!=2.1.*,!=2.10.*,!=2.2.*,!=2.3.*,!=2.4.*,!=2.5.*,!=2.6.*,!=2.7.*,!=2.8.*,!=2.9.*,<3.0.0,>=1.34.1->google-ai-generativelanguage<0.7.0,>=0.6.18->langchain_google_genai) (2.32.3)\n",
      "Collecting grpcio<2.0.0,>=1.33.2 (from google-api-core[grpc]!=2.0.*,!=2.1.*,!=2.10.*,!=2.2.*,!=2.3.*,!=2.4.*,!=2.5.*,!=2.6.*,!=2.7.*,!=2.8.*,!=2.9.*,<3.0.0,>=1.34.1->google-ai-generativelanguage<0.7.0,>=0.6.18->langchain_google_genai)\n",
      "  Downloading grpcio-1.72.1-cp312-cp312-win_amd64.whl.metadata (4.0 kB)\n",
      "Collecting grpcio-status<2.0.0,>=1.33.2 (from google-api-core[grpc]!=2.0.*,!=2.1.*,!=2.10.*,!=2.2.*,!=2.3.*,!=2.4.*,!=2.5.*,!=2.6.*,!=2.7.*,!=2.8.*,!=2.9.*,<3.0.0,>=1.34.1->google-ai-generativelanguage<0.7.0,>=0.6.18->langchain_google_genai)\n",
      "  Downloading grpcio_status-1.72.1-py3-none-any.whl.metadata (1.1 kB)\n",
      "Requirement already satisfied: cachetools<6.0,>=2.0.0 in c:\\users\\shrey\\anaconda3\\lib\\site-packages (from google-auth!=2.24.0,!=2.25.0,<3.0.0,>=2.14.1->google-ai-generativelanguage<0.7.0,>=0.6.18->langchain_google_genai) (5.3.3)\n",
      "Requirement already satisfied: pyasn1-modules>=0.2.1 in c:\\users\\shrey\\anaconda3\\lib\\site-packages (from google-auth!=2.24.0,!=2.25.0,<3.0.0,>=2.14.1->google-ai-generativelanguage<0.7.0,>=0.6.18->langchain_google_genai) (0.2.8)\n",
      "Collecting rsa<5,>=3.1.4 (from google-auth!=2.24.0,!=2.25.0,<3.0.0,>=2.14.1->google-ai-generativelanguage<0.7.0,>=0.6.18->langchain_google_genai)\n",
      "  Downloading rsa-4.9.1-py3-none-any.whl.metadata (5.6 kB)\n",
      "Requirement already satisfied: jsonpointer>=1.9 in c:\\users\\shrey\\anaconda3\\lib\\site-packages (from jsonpatch<2.0,>=1.33->langchain-core<0.4.0,>=0.3.62->langchain_google_genai) (2.1)\n",
      "Requirement already satisfied: httpx<1,>=0.23.0 in c:\\users\\shrey\\anaconda3\\lib\\site-packages (from langsmith<0.4,>=0.1.126->langchain-core<0.4.0,>=0.3.62->langchain_google_genai) (0.27.0)\n",
      "Collecting orjson<4.0.0,>=3.9.14 (from langsmith<0.4,>=0.1.126->langchain-core<0.4.0,>=0.3.62->langchain_google_genai)\n",
      "  Downloading orjson-3.10.18-cp312-cp312-win_amd64.whl.metadata (43 kB)\n",
      "Requirement already satisfied: requests-toolbelt<2.0.0,>=1.0.0 in c:\\users\\shrey\\anaconda3\\lib\\site-packages (from langsmith<0.4,>=0.1.126->langchain-core<0.4.0,>=0.3.62->langchain_google_genai) (1.0.0)\n",
      "Requirement already satisfied: zstandard<0.24.0,>=0.23.0 in c:\\users\\shrey\\anaconda3\\lib\\site-packages (from langsmith<0.4,>=0.1.126->langchain-core<0.4.0,>=0.3.62->langchain_google_genai) (0.23.0)\n",
      "Collecting protobuf!=4.21.0,!=4.21.1,!=4.21.2,!=4.21.3,!=4.21.4,!=4.21.5,<7.0.0,>=3.20.2 (from google-ai-generativelanguage<0.7.0,>=0.6.18->langchain_google_genai)\n",
      "  Downloading protobuf-6.31.1-cp310-abi3-win_amd64.whl.metadata (593 bytes)\n",
      "Requirement already satisfied: anyio in c:\\users\\shrey\\anaconda3\\lib\\site-packages (from httpx<1,>=0.23.0->langsmith<0.4,>=0.1.126->langchain-core<0.4.0,>=0.3.62->langchain_google_genai) (4.2.0)\n",
      "Requirement already satisfied: certifi in c:\\users\\shrey\\anaconda3\\lib\\site-packages (from httpx<1,>=0.23.0->langsmith<0.4,>=0.1.126->langchain-core<0.4.0,>=0.3.62->langchain_google_genai) (2024.8.30)\n",
      "Requirement already satisfied: httpcore==1.* in c:\\users\\shrey\\anaconda3\\lib\\site-packages (from httpx<1,>=0.23.0->langsmith<0.4,>=0.1.126->langchain-core<0.4.0,>=0.3.62->langchain_google_genai) (1.0.2)\n",
      "Requirement already satisfied: idna in c:\\users\\shrey\\anaconda3\\lib\\site-packages (from httpx<1,>=0.23.0->langsmith<0.4,>=0.1.126->langchain-core<0.4.0,>=0.3.62->langchain_google_genai) (3.7)\n",
      "Requirement already satisfied: sniffio in c:\\users\\shrey\\anaconda3\\lib\\site-packages (from httpx<1,>=0.23.0->langsmith<0.4,>=0.1.126->langchain-core<0.4.0,>=0.3.62->langchain_google_genai) (1.3.0)\n",
      "Requirement already satisfied: h11<0.15,>=0.13 in c:\\users\\shrey\\anaconda3\\lib\\site-packages (from httpcore==1.*->httpx<1,>=0.23.0->langsmith<0.4,>=0.1.126->langchain-core<0.4.0,>=0.3.62->langchain_google_genai) (0.14.0)\n",
      "Requirement already satisfied: pyasn1<0.5.0,>=0.4.6 in c:\\users\\shrey\\anaconda3\\lib\\site-packages (from pyasn1-modules>=0.2.1->google-auth!=2.24.0,!=2.25.0,<3.0.0,>=2.14.1->google-ai-generativelanguage<0.7.0,>=0.6.18->langchain_google_genai) (0.4.8)\n",
      "Requirement already satisfied: charset-normalizer<4,>=2 in c:\\users\\shrey\\anaconda3\\lib\\site-packages (from requests<3.0.0,>=2.18.0->google-api-core!=2.0.*,!=2.1.*,!=2.10.*,!=2.2.*,!=2.3.*,!=2.4.*,!=2.5.*,!=2.6.*,!=2.7.*,!=2.8.*,!=2.9.*,<3.0.0,>=1.34.1->google-api-core[grpc]!=2.0.*,!=2.1.*,!=2.10.*,!=2.2.*,!=2.3.*,!=2.4.*,!=2.5.*,!=2.6.*,!=2.7.*,!=2.8.*,!=2.9.*,<3.0.0,>=1.34.1->google-ai-generativelanguage<0.7.0,>=0.6.18->langchain_google_genai) (3.3.2)\n",
      "Requirement already satisfied: urllib3<3,>=1.21.1 in c:\\users\\shrey\\anaconda3\\lib\\site-packages (from requests<3.0.0,>=2.18.0->google-api-core!=2.0.*,!=2.1.*,!=2.10.*,!=2.2.*,!=2.3.*,!=2.4.*,!=2.5.*,!=2.6.*,!=2.7.*,!=2.8.*,!=2.9.*,<3.0.0,>=1.34.1->google-api-core[grpc]!=2.0.*,!=2.1.*,!=2.10.*,!=2.2.*,!=2.3.*,!=2.4.*,!=2.5.*,!=2.6.*,!=2.7.*,!=2.8.*,!=2.9.*,<3.0.0,>=1.34.1->google-ai-generativelanguage<0.7.0,>=0.6.18->langchain_google_genai) (2.2.3)\n",
      "Downloading langchain_google_genai-2.1.5-py3-none-any.whl (44 kB)\n",
      "Downloading filetype-1.2.0-py2.py3-none-any.whl (19 kB)\n",
      "Downloading google_ai_generativelanguage-0.6.18-py3-none-any.whl (1.4 MB)\n",
      "   ---------------------------------------- 0.0/1.4 MB ? eta -:--:--\n",
      "   -------------------------------------- - 1.3/1.4 MB 9.6 MB/s eta 0:00:01\n",
      "   ---------------------------------------- 1.4/1.4 MB 8.9 MB/s eta 0:00:00\n",
      "Downloading langchain_core-0.3.63-py3-none-any.whl (438 kB)\n",
      "Downloading google_api_core-2.25.0-py3-none-any.whl (160 kB)\n",
      "Downloading google_auth-2.40.3-py2.py3-none-any.whl (216 kB)\n",
      "Downloading langsmith-0.3.45-py3-none-any.whl (363 kB)\n",
      "Downloading proto_plus-1.26.1-py3-none-any.whl (50 kB)\n",
      "Downloading googleapis_common_protos-1.70.0-py3-none-any.whl (294 kB)\n",
      "Downloading grpcio-1.72.1-cp312-cp312-win_amd64.whl (4.2 MB)\n",
      "   ---------------------------------------- 0.0/4.2 MB ? eta -:--:--\n",
      "   ---------------------------------------- 0.0/4.2 MB ? eta -:--:--\n",
      "   ---- ----------------------------------- 0.5/4.2 MB ? eta -:--:--\n",
      "   ------- -------------------------------- 0.8/4.2 MB 3.0 MB/s eta 0:00:02\n",
      "   ------------ --------------------------- 1.3/4.2 MB 2.0 MB/s eta 0:00:02\n",
      "   ----------------- ---------------------- 1.8/4.2 MB 2.2 MB/s eta 0:00:02\n",
      "   ---------------------- ----------------- 2.4/4.2 MB 2.1 MB/s eta 0:00:01\n",
      "   ---------------------------------------- 4.2/4.2 MB 3.6 MB/s eta 0:00:00\n",
      "Downloading grpcio_status-1.72.1-py3-none-any.whl (14 kB)\n",
      "Downloading protobuf-6.31.1-cp310-abi3-win_amd64.whl (435 kB)\n",
      "Downloading orjson-3.10.18-cp312-cp312-win_amd64.whl (134 kB)\n",
      "Downloading rsa-4.9.1-py3-none-any.whl (34 kB)\n",
      "Installing collected packages: filetype, rsa, protobuf, orjson, grpcio, proto-plus, googleapis-common-protos, google-auth, langsmith, grpcio-status, google-api-core, langchain-core, google-ai-generativelanguage, langchain_google_genai\n",
      "  Attempting uninstall: protobuf\n",
      "    Found existing installation: protobuf 4.25.3\n",
      "    Uninstalling protobuf-4.25.3:\n",
      "      Successfully uninstalled protobuf-4.25.3\n",
      "Successfully installed filetype-1.2.0 google-ai-generativelanguage-0.6.18 google-api-core-2.25.0 google-auth-2.40.3 googleapis-common-protos-1.70.0 grpcio-1.72.1 grpcio-status-1.72.1 langchain-core-0.3.63 langchain_google_genai-2.1.5 langsmith-0.3.45 orjson-3.10.18 proto-plus-1.26.1 protobuf-6.31.1 rsa-4.9.1\n"
     ]
    },
    {
     "name": "stderr",
     "output_type": "stream",
     "text": [
      "ERROR: pip's dependency resolver does not currently take into account all the packages that are installed. This behaviour is the source of the following dependency conflicts.\n",
      "streamlit 1.37.1 requires protobuf<6,>=3.20, but you have protobuf 6.31.1 which is incompatible.\n"
     ]
    }
   ],
   "source": [
    "!pip install langchain_google_genai \n",
    "from langchain_google_genai import ChatGoogleGenerativeAI \n",
    "llm = ChatGoogleGenerativeAI( \n",
    "model=\"gemini-2.0-flash-exp\", \n",
    "temperature=0, \n",
    "api_key=GOOGLE_API_KEY, \n",
    "max_tokens=256, \n",
    "timeout=None, \n",
    "max_retries=2, \n",
    ")"
   ]
  },
  {
   "cell_type": "code",
   "execution_count": 8,
   "id": "768d3150-f409-4781-82a1-ccd1fa80bbc4",
   "metadata": {},
   "outputs": [
    {
     "data": {
      "text/plain": [
       "AIMessage(content='Hi there! How can I help you today?', additional_kwargs={}, response_metadata={'prompt_feedback': {'block_reason': 0, 'safety_ratings': []}, 'finish_reason': 'STOP', 'model_name': 'gemini-2.0-flash-exp', 'safety_ratings': []}, id='run--9588a000-c820-40f6-94bb-3e6cbe861e31-0', usage_metadata={'input_tokens': 1, 'output_tokens': 11, 'total_tokens': 12, 'input_token_details': {'cache_read': 0}})"
      ]
     },
     "execution_count": 8,
     "metadata": {},
     "output_type": "execute_result"
    }
   ],
   "source": [
    "llm.invoke(\"Hi\") "
   ]
  },
  {
   "cell_type": "code",
   "execution_count": 9,
   "id": "3e50e0c9-78fd-4651-afb6-55aff48158a4",
   "metadata": {},
   "outputs": [
    {
     "name": "stdout",
     "output_type": "stream",
     "text": [
      "Vaccinations are a cornerstone of modern healthcare and play a vital role in protecting individuals and communities from infectious diseases. Their importance can be summarized in several key areas:\n",
      "\n",
      "**1. Disease Prevention and Eradication:**\n",
      "\n",
      "*   **Individual Protection:** Vaccines work by exposing the body to a weakened or inactive form of a disease-causing agent (virus or bacteria). This triggers the immune system to produce antibodies, which provide protection against future infections.  If the vaccinated person is later exposed to the real disease, their immune system is primed to fight it off quickly and effectively, often preventing illness or significantly reducing its severity.\n",
      "*   **Herd Immunity:** When a large percentage of a population is vaccinated, it creates \"herd immunity.\" This means that even those who cannot be vaccinated (e.g., infants, individuals with certain medical conditions) are protected because the disease has difficulty spreading. Herd immunity is crucial for protecting vulnerable populations and preventing outbreaks.\n",
      "*   **Disease Eradication:**  Vaccination has been instrumental in eradicating or significantly reducing the incidence of several devastating diseases, such as smallpox and polio.  Continued vaccination efforts are essential to maintain these achievements and prevent the re-emergence of these diseases.\n",
      "\n",
      "**2. Reduced Morbidity and Mortality\n"
     ]
    }
   ],
   "source": [
    "print(llm.invoke(original_prompt).content) "
   ]
  },
  {
   "cell_type": "code",
   "execution_count": 10,
   "id": "fd0cba16-1b44-40fc-9a5e-29bae5045232",
   "metadata": {},
   "outputs": [
    {
     "name": "stdout",
     "output_type": "stream",
     "text": [
      "Vaccinations are a cornerstone of modern healthcare, playing a crucial role in protecting individuals and communities from infectious diseases. Their importance stems from their ability to harness the body's natural defenses to build immunity, preventing illness and saving lives. Here's a breakdown of their significance, considering the aspects you mentioned:\n",
      "\n",
      "**1. Immunization:**\n",
      "\n",
      "*   **Foundation of Immunity:** Vaccination is the process that leads to **immunization**, which is the state of being protected against a specific disease.  It's the ultimate goal of vaccination programs.  Vaccines introduce a weakened or inactive form of a pathogen (virus or bacteria) or a part of it (like a protein) into the body. This triggers the immune system to recognize the pathogen as foreign and produce antibodies and immune cells that can fight it off if the real pathogen is encountered in the future.\n",
      "*   **Active vs. Passive Immunity:** Vaccination provides **active immunity**, meaning the body actively creates its own protection. This is different from **passive immunity**, which is temporary protection received from antibodies produced by another source (e.g., from a mother to her baby through breast milk or through antibody injections).\n",
      "\n",
      "**2. Vaccination:**\n",
      "\n",
      "*   **Preventive Measure:** Vaccination is a **preventive\n"
     ]
    }
   ],
   "source": [
    "print(llm.invoke(enriched_prompt).content) "
   ]
  },
  {
   "cell_type": "code",
   "execution_count": null,
   "id": "d7f24e7e-6414-419a-95c7-85cc200cdfac",
   "metadata": {},
   "outputs": [],
   "source": []
  }
 ],
 "metadata": {
  "kernelspec": {
   "display_name": "Python 3 (ipykernel)",
   "language": "python",
   "name": "python3"
  },
  "language_info": {
   "codemirror_mode": {
    "name": "ipython",
    "version": 3
   },
   "file_extension": ".py",
   "mimetype": "text/x-python",
   "name": "python",
   "nbconvert_exporter": "python",
   "pygments_lexer": "ipython3",
   "version": "3.12.7"
  }
 },
 "nbformat": 4,
 "nbformat_minor": 5
}
