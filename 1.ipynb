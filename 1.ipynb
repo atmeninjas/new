{
 "cells": [
  {
   "cell_type": "code",
   "execution_count": 11,
   "id": "8b024196-284e-4424-b56b-e2f3d9ba7352",
   "metadata": {},
   "outputs": [
    {
     "name": "stdout",
     "output_type": "stream",
     "text": [
      "Requirement already satisfied: gensim in c:\\users\\shrey\\anaconda3\\lib\\site-packages (4.3.3)\n",
      "Requirement already satisfied: numpy<2.0,>=1.18.5 in c:\\users\\shrey\\anaconda3\\lib\\site-packages (from gensim) (1.26.4)\n",
      "Requirement already satisfied: scipy<1.14.0,>=1.7.0 in c:\\users\\shrey\\anaconda3\\lib\\site-packages (from gensim) (1.13.1)\n",
      "Requirement already satisfied: smart-open>=1.8.1 in c:\\users\\shrey\\anaconda3\\lib\\site-packages (from gensim) (5.2.1)\n"
     ]
    }
   ],
   "source": [
    "!pip install gensim"
   ]
  },
  {
   "cell_type": "code",
   "execution_count": 12,
   "id": "61f5b6a8-0c77-42f0-8877-8637ddf3fd23",
   "metadata": {},
   "outputs": [
    {
     "name": "stderr",
     "output_type": "stream",
     "text": [
      "C:\\Users\\shrey\\AppData\\Local\\Temp\\ipykernel_9576\\667074363.py:5: DeprecationWarning: Call to deprecated `glove2word2vec` (KeyedVectors.load_word2vec_format(.., binary=False, no_header=True) loads GLoVE text vectors.).\n",
      "  glove2word2vec(glove_input_file, word2vec_output_file)\n"
     ]
    },
    {
     "name": "stdout",
     "output_type": "stream",
     "text": [
      "[('prince', 0.7682329416275024), ('queen', 0.7507690787315369), ('son', 0.7020888328552246), ('brother', 0.6985775828361511), ('monarch', 0.6977890729904175), ('throne', 0.691999077796936), ('kingdom', 0.6811409592628479), ('father', 0.6802029013633728), ('emperor', 0.6712858080863953), ('ii', 0.6676074266433716)]\n"
     ]
    }
   ],
   "source": [
    "from gensim.scripts.glove2word2vec import glove2word2vec\n",
    "from gensim.models import KeyedVectors\n",
    "glove_input_file = \"glove.6B.100d.txt\" \n",
    "word2vec_output_file = \"glove.6B.100d.word2vec.txt\"\n",
    "glove2word2vec(glove_input_file, word2vec_output_file)\n",
    "model = KeyedVectors.load_word2vec_format(word2vec_output_file,binary=False)\n",
    "print(model.most_similar(\"king\"))"
   ]
  },
  {
   "cell_type": "code",
   "execution_count": 13,
   "id": "9da41ae2-c69c-4832-9659-5b1062857792",
   "metadata": {},
   "outputs": [
    {
     "name": "stdout",
     "output_type": "stream",
     "text": [
      "Words similar to 'mysore': [('mysore', 1.0), ('travancore', 0.6994104385375977), ('cochin', 0.6752075552940369), ('hyderabad', 0.6592639088630676), ('jaipur', 0.6591896414756775)]\n"
     ]
    }
   ],
   "source": [
    "similar_to_mysore = model.similar_by_vector(model['mysore'], topn=5) \n",
    "print(f\"Words similar to 'mysore': {similar_to_mysore}\") "
   ]
  },
  {
   "cell_type": "code",
   "execution_count": 14,
   "id": "0b8deffd-050d-4514-821b-8294dfa81094",
   "metadata": {},
   "outputs": [],
   "source": [
    "result_vector_1 = model['actor'] - model['man'] + model['woman'] "
   ]
  },
  {
   "cell_type": "code",
   "execution_count": 15,
   "id": "50243ec7-8d4a-4f06-9706-c1f45ddc5474",
   "metadata": {},
   "outputs": [
    {
     "name": "stdout",
     "output_type": "stream",
     "text": [
      "'actor - man + woman' = [('actress', 0.9160683155059814)]\n"
     ]
    }
   ],
   "source": [
    "result_1 = model.similar_by_vector(result_vector_1, topn=1) \n",
    "print(f\"'actor - man + woman' = {result_1}\") "
   ]
  },
  {
   "cell_type": "code",
   "execution_count": 16,
   "id": "cbec0b1a-a33b-47e4-8cc2-42dc2410d082",
   "metadata": {},
   "outputs": [
    {
     "name": "stdout",
     "output_type": "stream",
     "text": [
      "'India - Delhi + Washington' = [('states', 0.8375228643417358), ('united', 0.8281229734420776), ('washington', 0.8155243396759033)]\n"
     ]
    }
   ],
   "source": [
    "result_vector_2 = model['india'] - model['delhi'] + model['washington'] \n",
    "result_2 = model.similar_by_vector(result_vector_2, topn=3) \n",
    "print(f\"'India - Delhi + Washington' = {result_2}\")"
   ]
  },
  {
   "cell_type": "code",
   "execution_count": 18,
   "id": "7621e6df-6668-4be6-8583-b4c95cf37d64",
   "metadata": {},
   "outputs": [
    {
     "data": {
      "text/plain": [
       "[('hotel', 1.0),\n",
       " ('hotels', 0.7933705449104309),\n",
       " ('restaurant', 0.7762866616249084)]"
      ]
     },
     "execution_count": 18,
     "metadata": {},
     "output_type": "execute_result"
    }
   ],
   "source": [
    "scaled_vector = model['hotel'] * 2  # Scales the 'king' vector by a \n",
    "result_2 = model.similar_by_vector(scaled_vector, topn=3) \n",
    "result_2 "
   ]
  },
  {
   "cell_type": "code",
   "execution_count": 19,
   "id": "6ad065a3-f88b-48bd-a45c-7d45c7a42fe6",
   "metadata": {},
   "outputs": [
    {
     "data": {
      "text/plain": [
       "[('fish', 0.9999999403953552),\n",
       " ('shrimp', 0.7793381810188293),\n",
       " ('salmon', 0.7608143091201782)]"
      ]
     },
     "execution_count": 19,
     "metadata": {},
     "output_type": "execute_result"
    }
   ],
   "source": [
    "import numpy as np \n",
    "normalized_vector = model['fish'] / np.linalg.norm(model['fish']) \n",
    "result_2 = model.similar_by_vector(normalized_vector, topn=3) \n",
    "result_2 "
   ]
  },
  {
   "cell_type": "code",
   "execution_count": 20,
   "id": "6b639fb0-2606-4133-a801-a2f1560bc53c",
   "metadata": {},
   "outputs": [
    {
     "data": {
      "text/plain": [
       "[('man', 0.9197071194648743),\n",
       " ('woman', 0.8637868165969849),\n",
       " ('father', 0.8270206451416016)]"
      ]
     },
     "execution_count": 20,
     "metadata": {},
     "output_type": "execute_result"
    }
   ],
   "source": [
    "average_vector = (model['king'] + model['woman'] + model['man']) / 3 \n",
    "result_2 = model.similar_by_vector(average_vector, topn=3) \n",
    "result_2"
   ]
  },
  {
   "cell_type": "code",
   "execution_count": 23,
   "id": "c9f22e68-f65c-479b-a2e6-1e2f4d509d2c",
   "metadata": {},
   "outputs": [
    {
     "name": "stderr",
     "output_type": "stream",
     "text": [
      "C:\\Users\\shrey\\AppData\\Local\\Temp\\ipykernel_9576\\203119459.py:3: DeprecationWarning: Call to deprecated `glove2word2vec` (KeyedVectors.load_word2vec_format(.., binary=False, no_header=True) loads GLoVE text vectors.).\n",
      "  glove2word2vec(glove_input_file, word2vec_output_file)\n",
      "C:\\Users\\shrey\\AppData\\Local\\Temp\\ipykernel_9576\\203119459.py:7: DeprecationWarning: Call to deprecated `glove2word2vec` (KeyedVectors.load_word2vec_format(.., binary=False, no_header=True) loads GLoVE text vectors.).\n",
      "  glove2word2vec(glove_input_file, word2vec_output_file)\n"
     ]
    }
   ],
   "source": [
    "glove_input_file = \"glove.6B.50d.txt\"  # Path to GloVe file \n",
    "word2vec_output_file = \"glove.6B.50d.word2vec.txt\"  # Output \n",
    "glove2word2vec(glove_input_file, word2vec_output_file) \n",
    "model_50d = KeyedVectors.load_word2vec_format(word2vec_output_file, binary=False) \n",
    "glove_input_file = \"glove.6B.100d.txt\"  # Path to GloVe file \n",
    "word2vec_output_file = \"glove.6B.100d.word2vec.txt\"  # Output \n",
    "glove2word2vec(glove_input_file, word2vec_output_file) \n",
    "model_100d = KeyedVectors.load_word2vec_format(word2vec_output_file, binary=False)"
   ]
  },
  {
   "cell_type": "code",
   "execution_count": 25,
   "id": "5d07168c-a370-423f-a6af-c477a303c092",
   "metadata": {},
   "outputs": [
    {
     "name": "stdout",
     "output_type": "stream",
     "text": [
      "Similarity (50d) between 'hospital' and 'doctor': 0.6724\n",
      "Similarity (100d) between 'hospital' and 'doctor': 0.6901\n"
     ]
    }
   ],
   "source": [
    "word1 = \"hospital\" \n",
    "word2 = \"doctor\" \n",
    " \n",
    "# Similarity in 50d \n",
    "similarity_50d = model_50d.similarity(word1, word2) \n",
    " \n",
    "# Similarity in 100d \n",
    "similarity_100d = model_100d.similarity(word1, word2) \n",
    " \n",
    "# Results \n",
    "print(f\"Similarity (50d) between '{word1}' and '{word2}': {similarity_50d:.4f}\") \n",
    "print(f\"Similarity (100d) between '{word1}' and '{word2}': {similarity_100d:.4f}\") "
   ]
  },
  {
   "cell_type": "code",
   "execution_count": 28,
   "id": "a635a145-b0dc-4792-9f39-9fefea90daff",
   "metadata": {},
   "outputs": [
    {
     "name": "stdout",
     "output_type": "stream",
     "text": [
      "Distance (50d) between 'hospital' and 'doctor': 0.3276\n",
      "Distance (100d) between 'hospital' and 'doctor': 0.3099\n"
     ]
    }
   ],
   "source": [
    "distance_50d = model_50d.distance(word1, word2) \n",
    "distance_100d = model_100d.distance(word1, word2)  \n",
    "print(f\"Distance (50d) between '{word1}' and '{word2}': {distance_50d:.4f}\") \n",
    "print(f\"Distance (100d) between '{word1}' and '{word2}': {distance_100d:.4f}\") "
   ]
  },
  {
   "cell_type": "code",
   "execution_count": null,
   "id": "4762a9be-dc0d-45b8-b121-35a538543b14",
   "metadata": {},
   "outputs": [],
   "source": []
  }
 ],
 "metadata": {
  "kernelspec": {
   "display_name": "Python 3 (ipykernel)",
   "language": "python",
   "name": "python3"
  },
  "language_info": {
   "codemirror_mode": {
    "name": "ipython",
    "version": 3
   },
   "file_extension": ".py",
   "mimetype": "text/x-python",
   "name": "python",
   "nbconvert_exporter": "python",
   "pygments_lexer": "ipython3",
   "version": "3.12.7"
  }
 },
 "nbformat": 4,
 "nbformat_minor": 5
}
