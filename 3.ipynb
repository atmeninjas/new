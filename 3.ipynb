{
 "cells": [
  {
   "cell_type": "code",
   "execution_count": 1,
   "metadata": {
    "colab": {
     "base_uri": "https://localhost:8080/"
    },
    "executionInfo": {
     "elapsed": 7284,
     "status": "ok",
     "timestamp": 1744254113359,
     "user": {
      "displayName": "aiml atme",
      "userId": "03087314293290754859"
     },
     "user_tz": -330
    },
    "id": "ofkDJRxOmy6G",
    "outputId": "06057886-9ab6-4e6f-f12e-8ba615c45e40"
   },
   "outputs": [
    {
     "name": "stdout",
     "output_type": "stream",
     "text": [
      "Requirement already satisfied: gensim in /usr/local/lib/python3.11/dist-packages (4.3.3)\n",
      "Requirement already satisfied: numpy<2.0,>=1.18.5 in /usr/local/lib/python3.11/dist-packages (from gensim) (1.26.4)\n",
      "Requirement already satisfied: scipy<1.14.0,>=1.7.0 in /usr/local/lib/python3.11/dist-packages (from gensim) (1.13.1)\n",
      "Requirement already satisfied: smart-open>=1.8.1 in /usr/local/lib/python3.11/dist-packages (from gensim) (7.1.0)\n",
      "Requirement already satisfied: wrapt in /usr/local/lib/python3.11/dist-packages (from smart-open>=1.8.1->gensim) (1.17.2)\n"
     ]
    }
   ],
   "source": [
    "!pip install gensim"
   ]
  },
  {
   "cell_type": "code",
   "execution_count": 2,
   "metadata": {
    "executionInfo": {
     "elapsed": 3178,
     "status": "ok",
     "timestamp": 1744254124266,
     "user": {
      "displayName": "aiml atme",
      "userId": "03087314293290754859"
     },
     "user_tz": -330
    },
    "id": "TbfUXFAom1OR"
   },
   "outputs": [],
   "source": [
    "from gensim.models import Word2Vec\n",
    "from gensim.utils import simple_preprocess\n",
    "from sklearn.decomposition import PCA\n",
    "import matplotlib.pyplot as plt"
   ]
  },
  {
   "cell_type": "code",
   "execution_count": null,
   "metadata": {
    "executionInfo": {
     "elapsed": 136,
     "status": "ok",
     "timestamp": 1744254837497,
     "user": {
      "displayName": "aiml atme",
      "userId": "03087314293290754859"
     },
     "user_tz": -330
    },
    "id": "o_WFkOeKm4yX"
   },
   "outputs": [],
   "source": [
    "legal_corpus = [\n",
    "\"The court ruled in favor of the plaintiff.\",\n",
    "\"The defendant was found guilty of negligence.\",\n",
    "\"A breach of contract case was filed.\",\n",
    "\"The agreement between parties must be honored.\",\n",
    "\"The lawyer presented compelling evidence.\",\n",
    "\"Legal documents must be drafted carefully.\",\n",
    "\"The jury deliberated for several hours.\",\n",
    "\"A settlement was reached between the parties.\",\n",
    "\"The plaintiff claimed damages for losses incurred.\",\n",
    "\"The contract outlined the obligations of both parties.\"\n",
    "]\n",
    "\n",
    "tokenized_corpus = [simple_preprocess(sentence) for sentence in legal_corpus]\n",
    "legal_word2vec = Word2Vec(\n",
    "  sentences=tokenized_corpus,\n",
    "  vector_size=50,\n",
    "  window=3,\n",
    "  min_count=1,\n",
    "  sg=1,\n",
    "  epochs=100\n",
    ")\n",
    "\n",
    "legal_word2vec.save(\"legal_word2vec.model\")"
   ]
  },
  {
   "cell_type": "code",
   "execution_count": null,
   "metadata": {
    "colab": {
     "base_uri": "https://localhost:8080/"
    },
    "executionInfo": {
     "elapsed": 22,
     "status": "ok",
     "timestamp": 1744254841104,
     "user": {
      "displayName": "aiml atme",
      "userId": "03087314293290754859"
     },
     "user_tz": -330
    },
    "id": "f-jodm4NsGMa",
    "outputId": "c461da04-aafc-4fa4-ebf5-2178ed803871"
   },
   "outputs": [
    {
     "name": "stdout",
     "output_type": "stream",
     "text": [
      "Vector embedding for'lawyer':\n",
      "[ 0.00373483  0.01353383  0.00585796 -0.01324683  0.01500349 -0.01261986\n",
      "  0.01892563  0.00698961 -0.0087639  -0.01023367 -0.00875896 -0.01318524\n",
      "  0.01972703 -0.00463062  0.01525868 -0.01837575  0.0055629  -0.00126356\n",
      "  0.01417167 -0.01969541  0.01564029 -0.00948072 -0.0107858  -0.01128642\n",
      " -0.00610619 -0.00604345 -0.00693252 -0.01396556  0.00086967 -0.00136903\n",
      " -0.00358557  0.00685404 -0.01432065 -0.00657563  0.00952303  0.01720192\n",
      " -0.01858611  0.01418636  0.01038651 -0.00818817  0.01832661 -0.01858529\n",
      "  0.01404059  0.01154918  0.00326395 -0.01036671 -0.00841038 -0.00736812\n",
      "  0.00374052  0.00413726]\n",
      "\n"
     ]
    }
   ],
   "source": [
    "word = \"lawyer\"\n",
    "if word in legal_word2vec.wv:\n",
    "  print(f\"Vector embedding for'{word}':\\n{legal_word2vec.wv[word]}\\n\")\n",
    "else:\n",
    "  print(f\"Word '{word}' not found in the Word2Vec model.\")"
   ]
  },
  {
   "cell_type": "code",
   "execution_count": null,
   "metadata": {
    "colab": {
     "base_uri": "https://localhost:8080/"
    },
    "executionInfo": {
     "elapsed": 24,
     "status": "ok",
     "timestamp": 1744254843383,
     "user": {
      "displayName": "aiml atme",
      "userId": "03087314293290754859"
     },
     "user_tz": -330
    },
    "id": "3BDUElKnnDRG",
    "outputId": "2ac1633c-1c59-4c82-d9a9-d1f5052c05b0"
   },
   "outputs": [
    {
     "data": {
      "text/plain": [
       "[array([-0.01018794, -0.0037532 , -0.01479373,  0.00535417,  0.00549183,\n",
       "        -0.00194653, -0.00904275, -0.00120178,  0.01239534,  0.005502  ,\n",
       "        -0.01752885, -0.00888894,  0.00678894,  0.00598825, -0.01972261,\n",
       "         0.01158325, -0.01438892, -0.01200779,  0.00463451, -0.01056976,\n",
       "         0.00906795,  0.01991566, -0.00384839,  0.01845003,  0.00452612,\n",
       "         0.02153785,  0.0106156 , -0.0164802 , -0.0075984 ,  0.01259563,\n",
       "         0.01069134,  0.01610584,  0.01608272,  0.01619358, -0.02157517,\n",
       "         0.00898223, -0.00762749,  0.00642556,  0.01106042,  0.00757853,\n",
       "         0.01795846,  0.00227335, -0.00347768,  0.01356644, -0.00962057,\n",
       "         0.00016249,  0.01841913, -0.01246461,  0.00897428, -0.01424266],\n",
       "       dtype=float32),\n",
       " array([-0.01382369,  0.0011437 , -0.01449836, -0.00296123,  0.00624782,\n",
       "         0.00982854,  0.00482432,  0.00674102, -0.01035763,  0.0125059 ,\n",
       "        -0.01251031,  0.00691753, -0.01420641,  0.00583739, -0.01051113,\n",
       "        -0.00608784, -0.00284186,  0.01448168,  0.00904517, -0.01370935,\n",
       "         0.00321437, -0.01510567,  0.01918532,  0.01829434, -0.00426899,\n",
       "         0.00343321,  0.00058916,  0.01309333, -0.0183534 ,  0.00069488,\n",
       "         0.0132396 ,  0.0028656 ,  0.00451153, -0.01875341,  0.01468391,\n",
       "        -0.01201477, -0.00313035,  0.00620906, -0.0025351 ,  0.00151398,\n",
       "         0.0066815 , -0.01435055, -0.02045849,  0.01987134,  0.01433266,\n",
       "        -0.01331776,  0.00661788, -0.00128313,  0.01081608, -0.01213262],\n",
       "       dtype=float32),\n",
       " array([-0.01735372,  0.00324048, -0.00153466, -0.01745638, -0.01992291,\n",
       "        -0.00444436,  0.01032289,  0.00879421, -0.01455397, -0.01536747,\n",
       "        -0.01001598, -0.00653257, -0.0128883 , -0.01829896, -0.0059358 ,\n",
       "        -0.01495283, -0.00974466, -0.00899372, -0.00697665, -0.00573702,\n",
       "        -0.01700949,  0.0003172 ,  0.01874463,  0.01480774, -0.01384414,\n",
       "        -0.00612229,  0.00565069, -0.01732042,  0.00195022,  0.01274919,\n",
       "         0.01080692, -0.01920946, -0.00795812, -0.01638088, -0.00148547,\n",
       "         0.01870203,  0.01399906,  0.00958245,  0.00941055, -0.00658938,\n",
       "         0.02153141, -0.01520018, -0.01545056, -0.00327682,  0.00024155,\n",
       "        -0.00606883, -0.00135896,  0.01406399,  0.00023136, -0.00163963],\n",
       "       dtype=float32),\n",
       " array([ 0.00544287,  0.01555425, -0.00307019,  0.01717134,  0.00693973,\n",
       "        -0.0170452 , -0.00679161, -0.00333116,  0.00903156, -0.00295565,\n",
       "        -0.00578579,  0.01436892,  0.02001157, -0.00213262, -0.01079166,\n",
       "        -0.007799  , -0.00751752, -0.01736892,  0.00095211, -0.01050753,\n",
       "         0.00615652,  0.01262798, -0.00638232, -0.01966911,  0.00394809,\n",
       "        -0.01237557,  0.0045896 , -0.00610946,  0.01346509,  0.00106505,\n",
       "         0.00631289, -0.00667795, -0.00218376,  0.01535427,  0.00144457,\n",
       "        -0.0117866 , -0.01405202,  0.00186158,  0.0125593 ,  0.0105592 ,\n",
       "        -0.01650265,  0.01693893,  0.0074757 ,  0.0163192 ,  0.02056517,\n",
       "        -0.01457632, -0.01834234,  0.01092377,  0.01994778,  0.00864314],\n",
       "       dtype=float32),\n",
       " array([ 0.00373483,  0.01353383,  0.00585796, -0.01324683,  0.01500349,\n",
       "        -0.01261986,  0.01892563,  0.00698961, -0.0087639 , -0.01023367,\n",
       "        -0.00875896, -0.01318524,  0.01972703, -0.00463062,  0.01525868,\n",
       "        -0.01837575,  0.0055629 , -0.00126356,  0.01417167, -0.01969541,\n",
       "         0.01564029, -0.00948072, -0.0107858 , -0.01128642, -0.00610619,\n",
       "        -0.00604345, -0.00693252, -0.01396556,  0.00086967, -0.00136903,\n",
       "        -0.00358557,  0.00685404, -0.01432065, -0.00657563,  0.00952303,\n",
       "         0.01720192, -0.01858611,  0.01418636,  0.01038651, -0.00818817,\n",
       "         0.01832661, -0.01858529,  0.01404059,  0.01154918,  0.00326395,\n",
       "        -0.01036671, -0.00841038, -0.00736812,  0.00374052,  0.00413726],\n",
       "       dtype=float32),\n",
       " array([ 0.00550566,  0.00103798, -0.00515228,  0.01945088,  0.00499871,\n",
       "         0.00736707, -0.0011947 ,  0.00298867,  0.01247635, -0.00248031,\n",
       "         0.00660107, -0.00238972,  0.01178223,  0.00798718,  0.00505932,\n",
       "        -0.00936528, -0.00755702,  0.00989482, -0.01304692, -0.00193519,\n",
       "        -0.00039899,  0.0078729 , -0.01549838,  0.01741308, -0.0023178 ,\n",
       "        -0.00983727,  0.00754468, -0.0027872 , -0.01603217, -0.00921708,\n",
       "        -0.00134961, -0.01871502,  0.002125  ,  0.00480915, -0.00744796,\n",
       "         0.00537565,  0.00629158,  0.01973929,  0.0024904 ,  0.00340102,\n",
       "         0.00710946, -0.00441335, -0.01761757,  0.01698   , -0.0031966 ,\n",
       "        -0.0194808 , -0.01307702, -0.00849545,  0.00867249,  0.01145031],\n",
       "       dtype=float32),\n",
       " array([ 0.00298495, -0.00700375, -0.01431873, -0.01400242, -0.01991   ,\n",
       "        -0.01428693, -0.00105788, -0.00551727, -0.0153189 , -0.0100668 ,\n",
       "         0.00858984, -0.01069687,  0.01958971,  0.00508815, -0.01531299,\n",
       "         0.02237322,  0.01962719,  0.01488377, -0.01710452,  0.00707861,\n",
       "         0.01021231,  0.01304598,  0.01277774,  0.00337116, -0.00486931,\n",
       "         0.01909359,  0.01800028,  0.01032766, -0.00758116, -0.00048564,\n",
       "         0.00164387, -0.0189941 , -0.01410591, -0.00047871, -0.00010738,\n",
       "        -0.01102702, -0.0061726 , -0.01550268,  0.0161471 , -0.00069464,\n",
       "        -0.00545253,  0.01093123,  0.01718066, -0.00617879,  0.0186232 ,\n",
       "         0.01143978,  0.01163601, -0.00062903,  0.01886317, -0.0114121 ],\n",
       "       dtype=float32),\n",
       " array([-0.00976338, -0.00780081,  0.019559  ,  0.01830878, -0.00654693,\n",
       "         0.01011876,  0.01784409, -0.00301464,  0.01761319,  0.01262996,\n",
       "         0.00393919, -0.00980376, -0.00886089, -0.00519702,  0.01557352,\n",
       "        -0.01077065, -0.00356288,  0.02101176,  0.00479641,  0.01005143,\n",
       "        -0.01529913,  0.00012613,  0.01357427, -0.01018804,  0.01573833,\n",
       "         0.02000298, -0.00148577, -0.00239202, -0.00189635, -0.01172749,\n",
       "        -0.01742925, -0.00479667, -0.00404787,  0.00869905, -0.01522061,\n",
       "         0.01094797, -0.01160657, -0.0163735 ,  0.01649981,  0.01770434,\n",
       "        -0.00497504,  0.00637913, -0.01261914, -0.0161758 , -0.00964475,\n",
       "         0.01381735,  0.01255536,  0.01808335,  0.01568656,  0.01504712],\n",
       "       dtype=float32),\n",
       " array([ 0.01492715,  0.01934095,  0.01774599, -0.00747902,  0.01891196,\n",
       "        -0.0020531 ,  0.01053821,  0.00635226, -0.00197045,  0.00632444,\n",
       "        -0.01059867, -0.01259004, -0.01428318,  0.00465197,  0.01267453,\n",
       "         0.0028981 ,  0.00384051,  0.00779968,  0.01519439, -0.01727828,\n",
       "         0.00548228, -0.01392599,  0.00899558,  0.01923842,  0.01556924,\n",
       "         0.01372755,  0.01566461,  0.01412691,  0.01313736,  0.01728814,\n",
       "        -0.01028677,  0.01760968,  0.01114872, -0.00440745,  0.01607866,\n",
       "         0.01023387,  0.02058647,  0.00533376,  0.01917837,  0.00176341,\n",
       "         0.01960336,  0.0070012 ,  0.01266869, -0.00624314,  0.01447076,\n",
       "         0.01456392, -0.00432669, -0.00459186,  0.00780778, -0.01304201],\n",
       "       dtype=float32),\n",
       " array([ 0.0158812 ,  0.0174168 ,  0.00195527, -0.01554414,  0.01595952,\n",
       "        -0.00898288,  0.0134456 ,  0.01096715,  0.01782416, -0.02043355,\n",
       "         0.01853634, -0.02043897, -0.01187125, -0.01672532, -0.01152777,\n",
       "         0.01697107,  0.02129747, -0.00410723,  0.0053023 , -0.01103053,\n",
       "         0.017639  ,  0.01337754,  0.0028419 , -0.00731513, -0.01343816,\n",
       "         0.01128781,  0.00173393, -0.00338352,  0.01469343, -0.00834176,\n",
       "        -0.01866035, -0.00566033,  0.00234445, -0.0135692 , -0.0126051 ,\n",
       "        -0.01704373,  0.02071049,  0.0147259 , -0.00145971,  0.01323994,\n",
       "         0.01840546, -0.0020906 ,  0.0126531 ,  0.0093615 ,  0.01196339,\n",
       "         0.01458218, -0.00961088, -0.00608193,  0.00305689,  0.01033708],\n",
       "       dtype=float32)]"
      ]
     },
     "execution_count": 7,
     "metadata": {},
     "output_type": "execute_result"
    }
   ],
   "source": [
    "words_to_visualize = [\"court\", \"plaintiff\", \"defendant\", \"agreement\",\n",
    "\"lawyer\", \"evidence\", \"contract\", \"settlement\", \"jury\", \"damages\"]\n",
    "word_vectors = [legal_word2vec.wv[word] for word in words_to_visualize]\n",
    "word_vectors"
   ]
  },
  {
   "cell_type": "code",
   "execution_count": null,
   "metadata": {
    "colab": {
     "base_uri": "https://localhost:8080/"
    },
    "executionInfo": {
     "elapsed": 8,
     "status": "ok",
     "timestamp": 1744254978788,
     "user": {
      "displayName": "aiml atme",
      "userId": "03087314293290754859"
     },
     "user_tz": -330
    },
    "id": "ahAGqvqtsP9Z",
    "outputId": "d9eae064-4dfb-41f3-b238-6c7a4fb9f17b"
   },
   "outputs": [
    {
     "data": {
      "text/plain": [
       "array([[ 0.02688162, -0.00792018],\n",
       "       [ 0.00493226, -0.04934309],\n",
       "       [-0.00377306, -0.04936944],\n",
       "       [ 0.02256997,  0.03808062],\n",
       "       [-0.0355795 , -0.01066101],\n",
       "       [ 0.02682294, -0.01050709],\n",
       "       [ 0.01486912,  0.0443972 ],\n",
       "       [ 0.04605154,  0.01166099],\n",
       "       [-0.0482769 , -0.0079725 ],\n",
       "       [-0.05449799,  0.0416345 ]])"
      ]
     },
     "execution_count": 8,
     "metadata": {},
     "output_type": "execute_result"
    }
   ],
   "source": [
    "pca = PCA(n_components=2)\n",
    "reduced_vectors = pca.fit_transform(word_vectors)\n",
    "reduced_vectors"
   ]
  },
  {
   "cell_type": "code",
   "execution_count": null,
   "metadata": {
    "colab": {
     "base_uri": "https://localhost:8080/",
     "height": 672
    },
    "executionInfo": {
     "elapsed": 487,
     "status": "ok",
     "timestamp": 1744254994139,
     "user": {
      "displayName": "aiml atme",
      "userId": "03087314293290754859"
     },
     "user_tz": -330
    },
    "id": "FfMGvSvisThj",
    "outputId": "006c23be-bcc2-4845-cf40-1a312fef363f"
   },
   "outputs": [
    {
     "data": {
      "image/png": "[encoded data removed]",
      "text/plain": [
       "<Figure size 1000x800 with 1 Axes>"
      ]
     },
     "metadata": {},
     "output_type": "display_data"
    }
   ],
   "source": [
    "plt.figure(figsize=(10, 8))\n",
    "for i, word in enumerate(words_to_visualize):\n",
    "  plt.scatter(reduced_vectors[i, 0], reduced_vectors[i, 1])\n",
    "  plt.text(reduced_vectors[i, 0] + 0.002, reduced_vectors[i, 1],word, fontsize=12)\n",
    "plt.title(\"PCA Visualization of Legal Word Embeddings\")\n",
    "plt.xlabel(\"PCA Dimension 1\")\n",
    "plt.ylabel(\"PCA Dimension 2\")\n",
    "plt.show()"
   ]
  },
  {
   "cell_type": "code",
   "execution_count": null,
   "metadata": {
    "colab": {
     "base_uri": "https://localhost:8080/"
    },
    "executionInfo": {
     "elapsed": 19,
     "status": "ok",
     "timestamp": 1744254998487,
     "user": {
      "displayName": "aiml atme",
      "userId": "03087314293290754859"
     },
     "user_tz": -330
    },
    "id": "nImZjRPPsYPK",
    "outputId": "d6b95763-2792-46ad-b78b-60067983d653"
   },
   "outputs": [
    {
     "name": "stdout",
     "output_type": "stream",
     "text": [
      "Words similar to 'lawyer': [('carefully', 0.29186686873435974), ('claimed', 0.27888569235801697), ('jury', 0.21892617642879486), ('damages', 0.1961500644683838), ('negligence', 0.1820133775472641)]\n"
     ]
    }
   ],
   "source": [
    "similar_words = legal_word2vec.wv.most_similar(\"lawyer\", topn=5)\n",
    "print(f\"Words similar to 'lawyer': {similar_words}\")"
   ]
  },
  {
   "cell_type": "code",
   "execution_count": null,
   "metadata": {
    "colab": {
     "base_uri": "https://localhost:8080/"
    },
    "executionInfo": {
     "elapsed": 52,
     "status": "ok",
     "timestamp": 1744255160416,
     "user": {
      "displayName": "aiml atme",
      "userId": "03087314293290754859"
     },
     "user_tz": -330
    },
    "id": "SuxE0gr-scDD",
    "outputId": "d34aacc4-70b5-412f-8fc6-718c9286e61a"
   },
   "outputs": [
    {
     "data": {
      "text/plain": [
       "[['the',\n",
       "  'court',\n",
       "  'ordered',\n",
       "  'the',\n",
       "  'immediate',\n",
       "  'release',\n",
       "  'of',\n",
       "  'the',\n",
       "  'detained',\n",
       "  'individual',\n",
       "  'due',\n",
       "  'to',\n",
       "  'lack',\n",
       "  'of',\n",
       "  'evidence'],\n",
       " ['new',\n",
       "  'amendment',\n",
       "  'was',\n",
       "  'introduced',\n",
       "  'to',\n",
       "  'ensure',\n",
       "  'the',\n",
       "  'protection',\n",
       "  'of',\n",
       "  'intellectual',\n",
       "  'property',\n",
       "  'rights'],\n",
       " ['the',\n",
       "  'defendant',\n",
       "  'pleaded',\n",
       "  'not',\n",
       "  'guilty',\n",
       "  'citing',\n",
       "  'an',\n",
       "  'alibi',\n",
       "  'supported',\n",
       "  'by',\n",
       "  'credible',\n",
       "  'witnesses'],\n",
       " ['the',\n",
       "  'plaintiff',\n",
       "  'accused',\n",
       "  'the',\n",
       "  'company',\n",
       "  'of',\n",
       "  'violating',\n",
       "  'environmental',\n",
       "  'regulations'],\n",
       " ['settlement',\n",
       "  'agreement',\n",
       "  'was',\n",
       "  'reached',\n",
       "  'through',\n",
       "  'arbitration',\n",
       "  'avoiding',\n",
       "  'lengthy',\n",
       "  'trial'],\n",
       " ['the',\n",
       "  'legal',\n",
       "  'team',\n",
       "  'presented',\n",
       "  'compelling',\n",
       "  'argument',\n",
       "  'to',\n",
       "  'overturn',\n",
       "  'the',\n",
       "  'previous',\n",
       "  'judgment'],\n",
       " ['contractual',\n",
       "  'obligations',\n",
       "  'must',\n",
       "  'be',\n",
       "  'fulfilled',\n",
       "  'unless',\n",
       "  'waived',\n",
       "  'by',\n",
       "  'mutual',\n",
       "  'consent'],\n",
       " ['the',\n",
       "  'jury',\n",
       "  'found',\n",
       "  'the',\n",
       "  'accused',\n",
       "  'guilty',\n",
       "  'of',\n",
       "  'fraud',\n",
       "  'and',\n",
       "  'embezzlement'],\n",
       " ['the',\n",
       "  'appeal',\n",
       "  'was',\n",
       "  'dismissed',\n",
       "  'as',\n",
       "  'the',\n",
       "  'evidence',\n",
       "  'presented',\n",
       "  'was',\n",
       "  'deemed',\n",
       "  'inadmissible'],\n",
       " ['the',\n",
       "  'attorney',\n",
       "  'emphasized',\n",
       "  'the',\n",
       "  'importance',\n",
       "  'of',\n",
       "  'adhering',\n",
       "  'to',\n",
       "  'constitutional',\n",
       "  'rights'],\n",
       " ['the',\n",
       "  'patient',\n",
       "  'was',\n",
       "  'admitted',\n",
       "  'to',\n",
       "  'the',\n",
       "  'emergency',\n",
       "  'department',\n",
       "  'with',\n",
       "  'severe',\n",
       "  'chest',\n",
       "  'pain'],\n",
       " ['the',\n",
       "  'surgeon',\n",
       "  'successfully',\n",
       "  'performed',\n",
       "  'minimally',\n",
       "  'invasive',\n",
       "  'procedure',\n",
       "  'to',\n",
       "  'remove',\n",
       "  'the',\n",
       "  'tumor'],\n",
       " ['clinical',\n",
       "  'trials',\n",
       "  'showed',\n",
       "  'significant',\n",
       "  'improvement',\n",
       "  'in',\n",
       "  'patients',\n",
       "  'treated',\n",
       "  'with',\n",
       "  'the',\n",
       "  'experimental',\n",
       "  'drug'],\n",
       " ['regular',\n",
       "  'screening',\n",
       "  'is',\n",
       "  'essential',\n",
       "  'for',\n",
       "  'early',\n",
       "  'detection',\n",
       "  'of',\n",
       "  'chronic',\n",
       "  'illnesses',\n",
       "  'such',\n",
       "  'as',\n",
       "  'diabetes'],\n",
       " ['the',\n",
       "  'doctor',\n",
       "  'recommended',\n",
       "  'physical',\n",
       "  'therapy',\n",
       "  'to',\n",
       "  'improve',\n",
       "  'mobility',\n",
       "  'after',\n",
       "  'surgery'],\n",
       " ['the',\n",
       "  'hospital',\n",
       "  'implemented',\n",
       "  'stringent',\n",
       "  'protocols',\n",
       "  'to',\n",
       "  'prevent',\n",
       "  'the',\n",
       "  'spread',\n",
       "  'of',\n",
       "  'infectious',\n",
       "  'diseases'],\n",
       " ['the',\n",
       "  'nurse',\n",
       "  'monitored',\n",
       "  'the',\n",
       "  'patient',\n",
       "  'vital',\n",
       "  'signs',\n",
       "  'hourly',\n",
       "  'to',\n",
       "  'ensure',\n",
       "  'stability'],\n",
       " ['vaccination',\n",
       "  'campaigns',\n",
       "  'have',\n",
       "  'drastically',\n",
       "  'reduced',\n",
       "  'the',\n",
       "  'prevalence',\n",
       "  'of',\n",
       "  'polio',\n",
       "  'worldwide'],\n",
       " ['the',\n",
       "  'radiologist',\n",
       "  'identified',\n",
       "  'small',\n",
       "  'abnormality',\n",
       "  'in',\n",
       "  'the',\n",
       "  'ct',\n",
       "  'scan',\n",
       "  'requiring',\n",
       "  'further',\n",
       "  'investigation'],\n",
       " ['proper',\n",
       "  'nutrition',\n",
       "  'and',\n",
       "  'exercise',\n",
       "  'are',\n",
       "  'vital',\n",
       "  'components',\n",
       "  'of',\n",
       "  'healthy',\n",
       "  'lifestyle']]"
      ]
     },
     "execution_count": 11,
     "metadata": {},
     "output_type": "execute_result"
    }
   ],
   "source": [
    "from gensim.models import Word2Vec\n",
    "from gensim.utils import simple_preprocess\n",
    "from sklearn.decomposition import PCA\n",
    "import matplotlib.pyplot as plt\n",
    "enhanced_corpus = [\n",
    "\"The court ordered the immediate release of the detained individual due to lack of evidence.\",\n",
    "\"A new amendment was introduced to ensure the protection of intellectual property rights.\",\n",
    "\"The defendant pleaded not guilty, citing an alibi supported by credible witnesses.\",\n",
    "\"The plaintiff accused the company of violating environmental regulations.\",\n",
    "\"A settlement agreement was reached through arbitration, avoiding a lengthy trial.\",\n",
    "\"The legal team presented a compelling argument to overturn the previous judgment.\",\n",
    "\"Contractual obligations must be fulfilled unless waived by mutual consent.\",\n",
    "\"The jury found the accused guilty of fraud and embezzlement.\",\n",
    "\"The appeal was dismissed as the evidence presented was deemed inadmissible.\",\n",
    "\"The attorney emphasized the importance of adhering to constitutional rights.\",\n",
    "# Medical domain\n",
    "\"The patient was admitted to the emergency department with severe chest pain.\",\n",
    "\"The surgeon successfully performed a minimally invasive procedure to remove the tumor.\",\n",
    "\"Clinical trials showed significant improvement in patients treated with the experimental drug.\",\n",
    "\"Regular screening is essential for early detection of chronic illnesses such as diabetes.\",\n",
    "\"The doctor recommended physical therapy to improve mobility after surgery.\",\n",
    "\"The hospital implemented stringent protocols to prevent the spread of infectious diseases.\",\n",
    "\"The nurse monitored the patient's vital signs hourly to ensure stability.\",\n",
    "\"Vaccination campaigns have drastically reduced the prevalence of polio worldwide.\",\n",
    "\"The radiologist identified a small abnormality in the CT scan requiring further investigation.\",\n",
    "\"Proper nutrition and exercise are vital components of a healthy lifestyle.\"\n",
    "]\n",
    "tokenized_corpus = [simple_preprocess(sentence) for sentence in enhanced_corpus]\n",
    "tokenized_corpus"
   ]
  },
  {
   "cell_type": "code",
   "execution_count": null,
   "metadata": {
    "executionInfo": {
     "elapsed": 237,
     "status": "ok",
     "timestamp": 1744255301238,
     "user": {
      "displayName": "aiml atme",
      "userId": "03087314293290754859"
     },
     "user_tz": -330
    },
    "id": "4lwPp3EJtztT"
   },
   "outputs": [],
   "source": [
    "domain_word2vec = Word2Vec(\n",
    "  sentences=tokenized_corpus,\n",
    "  vector_size=100,\n",
    "  window=5,\n",
    "  min_count=1,\n",
    "  sg=1,\n",
    "  epochs=150\n",
    ")\n",
    "domain_word2vec.save(\"enhanced_domain_word2vec.model\")"
   ]
  },
  {
   "cell_type": "code",
   "execution_count": null,
   "metadata": {
    "colab": {
     "base_uri": "https://localhost:8080/"
    },
    "executionInfo": {
     "elapsed": 60,
     "status": "ok",
     "timestamp": 1744255345373,
     "user": {
      "displayName": "aiml atme",
      "userId": "03087314293290754859"
     },
     "user_tz": -330
    },
    "id": "_2HqVbDtt9pT",
    "outputId": "0f205650-2c0e-460d-e5f7-f6f46f4d1631"
   },
   "outputs": [
    {
     "name": "stdout",
     "output_type": "stream",
     "text": [
      "Vector embedding for'court':\n",
      "[-0.00520213  0.05436571  0.0196009   0.00766893  0.04851889 -0.22194375\n",
      "  0.15068555  0.2671535  -0.16717364 -0.04062838 -0.054865   -0.17729442\n",
      " -0.06285486  0.16066416  0.00799252  0.00430546 -0.04130681 -0.11852198\n",
      " -0.11586928 -0.32001996  0.07377547  0.00634967  0.01555517 -0.04018658\n",
      " -0.05180506 -0.06574838  0.01809591 -0.04998898 -0.05094941  0.00987862\n",
      "  0.17092119 -0.03111312  0.12419216 -0.07877786 -0.07952873  0.22328345\n",
      "  0.12608306 -0.0951244  -0.07667849 -0.1501351   0.04725789 -0.15457962\n",
      " -0.06896634  0.13114625  0.11142956  0.03642106 -0.06946036 -0.02198208\n",
      "  0.01422113  0.05933676  0.09983439 -0.12603386  0.07056595  0.02597529\n",
      " -0.02668819  0.0757888  -0.00033602  0.05289464 -0.16172495  0.12800941\n",
      "  0.07429419  0.10103885  0.08504409 -0.01794797 -0.06241613  0.14987893\n",
      "  0.15474467  0.18398537 -0.17408288  0.13962157 -0.11823418  0.09919562\n",
      "  0.07957372 -0.05181967  0.15559544  0.0681076  -0.0985308   0.02557893\n",
      " -0.11090399 -0.02128516 -0.01085772  0.11211726 -0.14611867  0.20995773\n",
      " -0.10311343  0.06910679  0.14604773  0.10655196  0.10023539 -0.02284993\n",
      "  0.14183174  0.13799591  0.00409749  0.11127966  0.21348046  0.03055387\n",
      "  0.11364785 -0.1445034   0.11242675 -0.04190433]\n",
      "\n",
      "Vector embedding for'plaintiff':\n",
      "[-0.03223411  0.06478627  0.00088969 -0.00806353  0.05694845 -0.21240263\n",
      "  0.13640128  0.26523107 -0.13281158 -0.04770363 -0.02368818 -0.1402928\n",
      " -0.03685566  0.12257947  0.00039671  0.00741028 -0.01043882 -0.11464308\n",
      " -0.09540985 -0.3000543   0.0647751   0.00074026  0.00411286 -0.05273201\n",
      " -0.02684729 -0.04762366  0.02497391 -0.04300669 -0.04396778 -0.00184753\n",
      "  0.14383827 -0.04924785  0.08860843 -0.08550214 -0.06152922  0.24551614\n",
      "  0.10724474 -0.13455397 -0.05984696 -0.15700217  0.02755019 -0.14089336\n",
      " -0.07535081  0.0659988   0.11539416  0.020872   -0.05348673 -0.02727061\n",
      "  0.01346072  0.03318129  0.09382757 -0.10529419  0.0414049   0.07656677\n",
      " -0.01830849  0.07164428  0.01196256  0.05545417 -0.13542365  0.1291954\n",
      "  0.08052401  0.06550701  0.09594982 -0.03788032 -0.07346537  0.16846505\n",
      "  0.13681169  0.14530386 -0.15170906  0.14640196 -0.09068518  0.0789521\n",
      "  0.05557212 -0.02400086  0.11684093  0.06631403 -0.11164055  0.01440321\n",
      " -0.10535935 -0.00458972 -0.02664629  0.1090111  -0.12968238  0.18052402\n",
      " -0.09392222  0.08443088  0.12474449  0.09482376  0.11001488 -0.01367659\n",
      "  0.12273199  0.1101999   0.02236929  0.09491293  0.19617565  0.01282949\n",
      "  0.11568122 -0.1593218   0.10664962 -0.04113806]\n",
      "\n",
      "Vector embedding for'doctor':\n",
      "[-3.76006439e-02  8.11468363e-02 -1.18198330e-02  1.22082625e-02\n",
      "  5.35595044e-03 -2.21441105e-01  1.31108329e-01  3.10447901e-01\n",
      " -2.11071640e-01  7.52886664e-03 -6.67306557e-02 -1.76628768e-01\n",
      " -4.83631082e-02  1.88437983e-01 -2.80619003e-02  3.20329741e-02\n",
      " -2.19840016e-02 -1.36392176e-01 -1.02166705e-01 -3.58890593e-01\n",
      "  4.39012572e-02  4.81801666e-03  1.11632412e-02 -6.98464885e-02\n",
      " -4.50425185e-02 -4.01994735e-02 -6.03534980e-04 -7.15099052e-02\n",
      " -7.36634061e-02  2.14629583e-02  2.10165456e-01 -6.25279024e-02\n",
      "  1.19931854e-01 -1.26935437e-01 -8.21741298e-02  2.74210095e-01\n",
      "  9.49538499e-02 -1.17289513e-01 -9.49264839e-02 -1.75545543e-01\n",
      "  3.37264240e-02 -2.08480164e-01 -8.98559391e-02  1.35834515e-01\n",
      "  1.21459514e-01  5.26671447e-02 -7.85357356e-02 -1.38883330e-02\n",
      "  3.44770006e-03  5.95685691e-02  1.30519092e-01 -1.28386602e-01\n",
      "  9.01534930e-02  7.31256530e-02 -1.94634255e-02  1.17376871e-01\n",
      "  1.67697188e-04  4.33479100e-02 -1.57258630e-01  1.38467610e-01\n",
      "  8.46170783e-02  7.77027458e-02  8.34437460e-02 -2.43678018e-02\n",
      " -8.29226896e-02  1.89361051e-01  1.67503580e-01  2.07188442e-01\n",
      " -1.92358971e-01  1.90954044e-01 -8.66395757e-02  8.63512680e-02\n",
      "  8.16990361e-02 -2.30716318e-02  1.48350254e-01  9.33871120e-02\n",
      " -1.03444301e-01  3.32759172e-02 -1.03499167e-01  2.95007881e-02\n",
      " -4.18480560e-02  1.48850128e-01 -1.25358477e-01  2.33333096e-01\n",
      " -1.20942295e-01  1.06142171e-01  1.28692985e-01  1.23203449e-01\n",
      "  1.00113675e-01 -1.41250789e-02  1.63177848e-01  1.50014937e-01\n",
      " -1.95683893e-02  1.19940504e-01  2.54336447e-01  2.12510210e-02\n",
      "  1.35626718e-01 -1.89367294e-01  1.02768317e-01 -7.30541497e-02]\n",
      "\n",
      "Vector embedding for'patient':\n",
      "[ 0.00135616  0.06625096  0.02714886 -0.03324671  0.05406597 -0.2076351\n",
      "  0.14450136  0.27830392 -0.1474757  -0.05214735 -0.02860676 -0.218962\n",
      " -0.05803476  0.11022121 -0.03196976  0.0245685   0.0070367  -0.12605277\n",
      " -0.11396559 -0.3183468   0.07659787  0.01132763  0.00593386 -0.04407553\n",
      " -0.05708291 -0.05022431  0.03657781 -0.05108569 -0.0220301   0.00680075\n",
      "  0.14817646 -0.03874053  0.13069744 -0.11300313 -0.10196024  0.2306353\n",
      "  0.13352849 -0.12474146 -0.07811124 -0.14196448  0.03165774 -0.15317255\n",
      " -0.04029788  0.10843351  0.11978162  0.03644174 -0.07184896 -0.00125591\n",
      "  0.01996329  0.04686815  0.12031849 -0.13361286  0.07784432  0.03898075\n",
      " -0.05535794  0.07788541  0.02375661  0.06319185 -0.13593689  0.13807625\n",
      "  0.04011758  0.07736681  0.10920981 -0.01097703 -0.08413535  0.1694132\n",
      "  0.1142689   0.17812304 -0.16391632  0.13841556 -0.08013699  0.09719803\n",
      "  0.07872047 -0.04311903  0.14359443  0.06323478 -0.05998136  0.03068179\n",
      " -0.10644887  0.00854869 -0.04508544  0.13762434 -0.12336963  0.1855616\n",
      " -0.11391655  0.09752344  0.1405091   0.12214459  0.11253129 -0.01929942\n",
      "  0.13898279  0.15566415  0.01292162  0.08838749  0.19901091  0.03416261\n",
      "  0.12509196 -0.13636002  0.11566975 -0.02010318]\n",
      "\n",
      "Vector embedding for'guilty':\n",
      "[-0.01413389  0.06656995 -0.00734866 -0.03095385  0.06509437 -0.2517697\n",
      "  0.14954449  0.29895368 -0.15728544 -0.07182206 -0.06310162 -0.20050046\n",
      " -0.08547995  0.15693647 -0.0186175   0.01778842 -0.05446635 -0.12549472\n",
      " -0.11124176 -0.31952748  0.03580405  0.01365704  0.03395955 -0.03605738\n",
      " -0.06030127 -0.04814158  0.03859452 -0.09555041 -0.05513439  0.0372526\n",
      "  0.19865839 -0.07835107  0.10888778 -0.11142128 -0.10577497  0.29005775\n",
      "  0.11180676 -0.13126965 -0.07538164 -0.1596524   0.06402622 -0.17310387\n",
      " -0.09087672  0.04137763  0.09426072  0.02597058 -0.06627226 -0.02641308\n",
      "  0.03379544  0.0561525   0.13159601 -0.16362782  0.08867155  0.10736878\n",
      " -0.04391972  0.10295371  0.04891674  0.00565069 -0.163432    0.08589575\n",
      "  0.1108232   0.05997586  0.11241774 -0.04420831 -0.06642649  0.15975468\n",
      "  0.1490166   0.12801382 -0.21193038  0.1502985  -0.10489336  0.09517636\n",
      "  0.0673286  -0.03900745  0.15302955  0.0800889  -0.13577344  0.05731111\n",
      " -0.12092727  0.00424497 -0.00455176  0.11054221 -0.15298396  0.20722686\n",
      " -0.15278348  0.03610937  0.10936919  0.14354476  0.09363212 -0.00813364\n",
      "  0.1714467   0.15730394 -0.02156785  0.11239511  0.24912179  0.03659537\n",
      "  0.0892475  -0.202413    0.11249497 -0.05155509]\n",
      "\n",
      "Vector embedding for'surgery':\n",
      "[-3.12990844e-02  6.58327192e-02  2.85430159e-03  1.10345073e-02\n",
      " -7.04743201e-03 -2.36223593e-01  1.33402810e-01  3.03116202e-01\n",
      " -2.05681935e-01  6.48758421e-03 -8.28733593e-02 -1.69779241e-01\n",
      " -5.81854694e-02  1.80510432e-01 -4.00698669e-02  3.47116366e-02\n",
      " -1.62971541e-02 -1.29537463e-01 -9.92213637e-02 -3.68670791e-01\n",
      "  4.55319285e-02  8.06765445e-03 -1.78291200e-04 -6.00495152e-02\n",
      " -5.73267005e-02 -4.28762138e-02 -3.84912407e-03 -6.40033185e-02\n",
      " -7.08072856e-02  4.36537573e-03  2.26468816e-01 -4.98397388e-02\n",
      "  1.30335823e-01 -1.16139121e-01 -8.42535719e-02  2.86336660e-01\n",
      "  1.00505255e-01 -1.20256521e-01 -9.17292535e-02 -1.76113561e-01\n",
      "  2.96843071e-02 -2.00398415e-01 -9.28441510e-02  1.45912632e-01\n",
      "  1.11865871e-01  5.49624115e-02 -6.89490139e-02 -1.83873083e-02\n",
      " -1.00601949e-02  6.59109801e-02  1.25353217e-01 -1.26397550e-01\n",
      "  9.62558836e-02  5.71697466e-02 -2.06405111e-02  1.16529934e-01\n",
      " -8.17977940e-04  2.92389747e-02 -1.62125885e-01  1.34710684e-01\n",
      "  6.75722361e-02  8.40188041e-02  8.42126012e-02 -1.94504112e-02\n",
      " -1.00880139e-01  1.89215228e-01  1.60290688e-01  2.12331533e-01\n",
      " -2.03707144e-01  2.01542258e-01 -9.25249755e-02  9.14819315e-02\n",
      "  8.59961137e-02 -2.71495730e-02  1.61703631e-01  9.22792554e-02\n",
      " -1.11497119e-01  5.09562343e-02 -1.00743666e-01  3.40460427e-02\n",
      " -5.15895225e-02  1.68939248e-01 -1.28210068e-01  2.49226272e-01\n",
      " -1.33621320e-01  1.16187118e-01  1.42963469e-01  1.47219375e-01\n",
      "  1.09663606e-01  5.80039807e-03  1.60661057e-01  1.45263568e-01\n",
      " -1.83158442e-02  1.16535008e-01  2.47885883e-01  1.26237087e-02\n",
      "  1.36337191e-01 -1.75651938e-01  1.01963326e-01 -7.20273107e-02]\n",
      "\n"
     ]
    }
   ],
   "source": [
    "words_to_analyze = [\"court\", \"plaintiff\", \"doctor\", \"patient\",\"guilty\", \"surgery\"]\n",
    "for word in words_to_analyze:\n",
    "  if word in domain_word2vec.wv:\n",
    "    print(f\"Vector embedding for'{word}':\\n{domain_word2vec.wv[word]}\\n\")\n",
    "  else:\n",
    "    print(f\"Word '{word}' not found in the Word2Vec model.\")"
   ]
  },
  {
   "cell_type": "code",
   "execution_count": null,
   "metadata": {
    "colab": {
     "base_uri": "https://localhost:8080/"
    },
    "executionInfo": {
     "elapsed": 59,
     "status": "ok",
     "timestamp": 1744255348781,
     "user": {
      "displayName": "aiml atme",
      "userId": "03087314293290754859"
     },
     "user_tz": -330
    },
    "id": "YIWZAcDisizR",
    "outputId": "59c117ca-603d-44a8-b57f-a47f74174cb4"
   },
   "outputs": [
    {
     "data": {
      "text/plain": [
       "[array([-0.00520213,  0.05436571,  0.0196009 ,  0.00766893,  0.04851889,\n",
       "        -0.22194375,  0.15068555,  0.2671535 , -0.16717364, -0.04062838,\n",
       "        -0.054865  , -0.17729442, -0.06285486,  0.16066416,  0.00799252,\n",
       "         0.00430546, -0.04130681, -0.11852198, -0.11586928, -0.32001996,\n",
       "         0.07377547,  0.00634967,  0.01555517, -0.04018658, -0.05180506,\n",
       "        -0.06574838,  0.01809591, -0.04998898, -0.05094941,  0.00987862,\n",
       "         0.17092119, -0.03111312,  0.12419216, -0.07877786, -0.07952873,\n",
       "         0.22328345,  0.12608306, -0.0951244 , -0.07667849, -0.1501351 ,\n",
       "         0.04725789, -0.15457962, -0.06896634,  0.13114625,  0.11142956,\n",
       "         0.03642106, -0.06946036, -0.02198208,  0.01422113,  0.05933676,\n",
       "         0.09983439, -0.12603386,  0.07056595,  0.02597529, -0.02668819,\n",
       "         0.0757888 , -0.00033602,  0.05289464, -0.16172495,  0.12800941,\n",
       "         0.07429419,  0.10103885,  0.08504409, -0.01794797, -0.06241613,\n",
       "         0.14987893,  0.15474467,  0.18398537, -0.17408288,  0.13962157,\n",
       "        -0.11823418,  0.09919562,  0.07957372, -0.05181967,  0.15559544,\n",
       "         0.0681076 , -0.0985308 ,  0.02557893, -0.11090399, -0.02128516,\n",
       "        -0.01085772,  0.11211726, -0.14611867,  0.20995773, -0.10311343,\n",
       "         0.06910679,  0.14604773,  0.10655196,  0.10023539, -0.02284993,\n",
       "         0.14183174,  0.13799591,  0.00409749,  0.11127966,  0.21348046,\n",
       "         0.03055387,  0.11364785, -0.1445034 ,  0.11242675, -0.04190433],\n",
       "       dtype=float32),\n",
       " array([-0.03223411,  0.06478627,  0.00088969, -0.00806353,  0.05694845,\n",
       "        -0.21240263,  0.13640128,  0.26523107, -0.13281158, -0.04770363,\n",
       "        -0.02368818, -0.1402928 , -0.03685566,  0.12257947,  0.00039671,\n",
       "         0.00741028, -0.01043882, -0.11464308, -0.09540985, -0.3000543 ,\n",
       "         0.0647751 ,  0.00074026,  0.00411286, -0.05273201, -0.02684729,\n",
       "        -0.04762366,  0.02497391, -0.04300669, -0.04396778, -0.00184753,\n",
       "         0.14383827, -0.04924785,  0.08860843, -0.08550214, -0.06152922,\n",
       "         0.24551614,  0.10724474, -0.13455397, -0.05984696, -0.15700217,\n",
       "         0.02755019, -0.14089336, -0.07535081,  0.0659988 ,  0.11539416,\n",
       "         0.020872  , -0.05348673, -0.02727061,  0.01346072,  0.03318129,\n",
       "         0.09382757, -0.10529419,  0.0414049 ,  0.07656677, -0.01830849,\n",
       "         0.07164428,  0.01196256,  0.05545417, -0.13542365,  0.1291954 ,\n",
       "         0.08052401,  0.06550701,  0.09594982, -0.03788032, -0.07346537,\n",
       "         0.16846505,  0.13681169,  0.14530386, -0.15170906,  0.14640196,\n",
       "        -0.09068518,  0.0789521 ,  0.05557212, -0.02400086,  0.11684093,\n",
       "         0.06631403, -0.11164055,  0.01440321, -0.10535935, -0.00458972,\n",
       "        -0.02664629,  0.1090111 , -0.12968238,  0.18052402, -0.09392222,\n",
       "         0.08443088,  0.12474449,  0.09482376,  0.11001488, -0.01367659,\n",
       "         0.12273199,  0.1101999 ,  0.02236929,  0.09491293,  0.19617565,\n",
       "         0.01282949,  0.11568122, -0.1593218 ,  0.10664962, -0.04113806],\n",
       "       dtype=float32),\n",
       " array([ 0.00656709,  0.07256435, -0.0084228 , -0.02586134,  0.07641555,\n",
       "        -0.2732658 ,  0.1540303 ,  0.32865882, -0.17496191, -0.06661771,\n",
       "        -0.06085587, -0.22411431, -0.08474998,  0.18789086, -0.02127556,\n",
       "         0.03096173, -0.05577651, -0.12937057, -0.11135948, -0.36175218,\n",
       "         0.04432205,  0.00878906,  0.02296932, -0.05328603, -0.07712711,\n",
       "        -0.06075291,  0.04381331, -0.10575836, -0.06409874,  0.04152325,\n",
       "         0.21431115, -0.08531993,  0.14578514, -0.11424538, -0.11725931,\n",
       "         0.29418284,  0.10676998, -0.15401532, -0.09160217, -0.16645099,\n",
       "         0.06118093, -0.19756706, -0.08612581,  0.06556768,  0.1085471 ,\n",
       "         0.04415575, -0.06776308, -0.04802901,  0.04284215,  0.0638606 ,\n",
       "         0.13356939, -0.17036071,  0.08767819,  0.10464148, -0.03167466,\n",
       "         0.11624619,  0.03233933,  0.01407737, -0.15678538,  0.10963659,\n",
       "         0.11469187,  0.07420997,  0.09665452, -0.03110271, -0.07621247,\n",
       "         0.17188032,  0.18252161,  0.14339091, -0.22514871,  0.18041831,\n",
       "        -0.12061799,  0.07872933,  0.06301736, -0.04593184,  0.16801536,\n",
       "         0.08114434, -0.13756713,  0.06104114, -0.13863237,  0.01738747,\n",
       "        -0.01658883,  0.13528904, -0.1735411 ,  0.24808215, -0.17541201,\n",
       "         0.04516907,  0.11772847,  0.14438275,  0.12152614, -0.00914207,\n",
       "         0.16980448,  0.15530077, -0.0296784 ,  0.13635741,  0.24644977,\n",
       "         0.03516944,  0.11169897, -0.21215999,  0.10724142, -0.03329436],\n",
       "       dtype=float32),\n",
       " array([-0.01413389,  0.06656995, -0.00734866, -0.03095385,  0.06509437,\n",
       "        -0.2517697 ,  0.14954449,  0.29895368, -0.15728544, -0.07182206,\n",
       "        -0.06310162, -0.20050046, -0.08547995,  0.15693647, -0.0186175 ,\n",
       "         0.01778842, -0.05446635, -0.12549472, -0.11124176, -0.31952748,\n",
       "         0.03580405,  0.01365704,  0.03395955, -0.03605738, -0.06030127,\n",
       "        -0.04814158,  0.03859452, -0.09555041, -0.05513439,  0.0372526 ,\n",
       "         0.19865839, -0.07835107,  0.10888778, -0.11142128, -0.10577497,\n",
       "         0.29005775,  0.11180676, -0.13126965, -0.07538164, -0.1596524 ,\n",
       "         0.06402622, -0.17310387, -0.09087672,  0.04137763,  0.09426072,\n",
       "         0.02597058, -0.06627226, -0.02641308,  0.03379544,  0.0561525 ,\n",
       "         0.13159601, -0.16362782,  0.08867155,  0.10736878, -0.04391972,\n",
       "         0.10295371,  0.04891674,  0.00565069, -0.163432  ,  0.08589575,\n",
       "         0.1108232 ,  0.05997586,  0.11241774, -0.04420831, -0.06642649,\n",
       "         0.15975468,  0.1490166 ,  0.12801382, -0.21193038,  0.1502985 ,\n",
       "        -0.10489336,  0.09517636,  0.0673286 , -0.03900745,  0.15302955,\n",
       "         0.0800889 , -0.13577344,  0.05731111, -0.12092727,  0.00424497,\n",
       "        -0.00455176,  0.11054221, -0.15298396,  0.20722686, -0.15278348,\n",
       "         0.03610937,  0.10936919,  0.14354476,  0.09363212, -0.00813364,\n",
       "         0.1714467 ,  0.15730394, -0.02156785,  0.11239511,  0.24912179,\n",
       "         0.03659537,  0.0892475 , -0.202413  ,  0.11249497, -0.05155509],\n",
       "       dtype=float32),\n",
       " array([-0.00793692,  0.04061861, -0.01272589, -0.0216382 ,  0.05832693,\n",
       "        -0.20959468,  0.1335544 ,  0.23678838, -0.1236183 , -0.03556946,\n",
       "        -0.02290245, -0.1449683 , -0.06467045,  0.1215817 , -0.01873406,\n",
       "         0.01126286, -0.01548086, -0.10774158, -0.09506714, -0.26566857,\n",
       "         0.04896098, -0.00084279,  0.01825006, -0.05337542, -0.03144738,\n",
       "        -0.05701503,  0.03505556, -0.05904163, -0.04336127, -0.00061382,\n",
       "         0.16488056, -0.05326047,  0.09773479, -0.07977082, -0.06476859,\n",
       "         0.22621374,  0.09030687, -0.11633091, -0.06397521, -0.13930038,\n",
       "         0.04200654, -0.13733749, -0.06120953,  0.06062739,  0.0891199 ,\n",
       "         0.02058195, -0.06635275, -0.00753717,  0.01779128,  0.05422449,\n",
       "         0.10981765, -0.1124575 ,  0.06291748,  0.08702539, -0.03922568,\n",
       "         0.08803029,  0.03010272,  0.03673965, -0.13025954,  0.10378475,\n",
       "         0.07686505,  0.06131725,  0.09677017, -0.02306653, -0.05867948,\n",
       "         0.14983074,  0.11522046,  0.13194208, -0.16845842,  0.130707  ,\n",
       "        -0.09688476,  0.0888531 ,  0.05799359, -0.03768088,  0.1355294 ,\n",
       "         0.04766061, -0.1006932 ,  0.02873053, -0.10280664, -0.01355723,\n",
       "        -0.0322897 ,  0.125441  , -0.13379173,  0.1888993 , -0.1090064 ,\n",
       "         0.05351871,  0.11118538,  0.09934786,  0.08427987, -0.01916844,\n",
       "         0.11553331,  0.12629525, -0.00194136,  0.09477089,  0.19319633,\n",
       "         0.01517526,  0.08618706, -0.15499583,  0.09854038, -0.04697568],\n",
       "       dtype=float32),\n",
       " array([ 0.00135616,  0.06625096,  0.02714886, -0.03324671,  0.05406597,\n",
       "        -0.2076351 ,  0.14450136,  0.27830392, -0.1474757 , -0.05214735,\n",
       "        -0.02860676, -0.218962  , -0.05803476,  0.11022121, -0.03196976,\n",
       "         0.0245685 ,  0.0070367 , -0.12605277, -0.11396559, -0.3183468 ,\n",
       "         0.07659787,  0.01132763,  0.00593386, -0.04407553, -0.05708291,\n",
       "        -0.05022431,  0.03657781, -0.05108569, -0.0220301 ,  0.00680075,\n",
       "         0.14817646, -0.03874053,  0.13069744, -0.11300313, -0.10196024,\n",
       "         0.2306353 ,  0.13352849, -0.12474146, -0.07811124, -0.14196448,\n",
       "         0.03165774, -0.15317255, -0.04029788,  0.10843351,  0.11978162,\n",
       "         0.03644174, -0.07184896, -0.00125591,  0.01996329,  0.04686815,\n",
       "         0.12031849, -0.13361286,  0.07784432,  0.03898075, -0.05535794,\n",
       "         0.07788541,  0.02375661,  0.06319185, -0.13593689,  0.13807625,\n",
       "         0.04011758,  0.07736681,  0.10920981, -0.01097703, -0.08413535,\n",
       "         0.1694132 ,  0.1142689 ,  0.17812304, -0.16391632,  0.13841556,\n",
       "        -0.08013699,  0.09719803,  0.07872047, -0.04311903,  0.14359443,\n",
       "         0.06323478, -0.05998136,  0.03068179, -0.10644887,  0.00854869,\n",
       "        -0.04508544,  0.13762434, -0.12336963,  0.1855616 , -0.11391655,\n",
       "         0.09752344,  0.1405091 ,  0.12214459,  0.11253129, -0.01929942,\n",
       "         0.13898279,  0.15566415,  0.01292162,  0.08838749,  0.19901091,\n",
       "         0.03416261,  0.12509196, -0.13636002,  0.11566975, -0.02010318],\n",
       "       dtype=float32),\n",
       " array([-3.76006439e-02,  8.11468363e-02, -1.18198330e-02,  1.22082625e-02,\n",
       "         5.35595044e-03, -2.21441105e-01,  1.31108329e-01,  3.10447901e-01,\n",
       "        -2.11071640e-01,  7.52886664e-03, -6.67306557e-02, -1.76628768e-01,\n",
       "        -4.83631082e-02,  1.88437983e-01, -2.80619003e-02,  3.20329741e-02,\n",
       "        -2.19840016e-02, -1.36392176e-01, -1.02166705e-01, -3.58890593e-01,\n",
       "         4.39012572e-02,  4.81801666e-03,  1.11632412e-02, -6.98464885e-02,\n",
       "        -4.50425185e-02, -4.01994735e-02, -6.03534980e-04, -7.15099052e-02,\n",
       "        -7.36634061e-02,  2.14629583e-02,  2.10165456e-01, -6.25279024e-02,\n",
       "         1.19931854e-01, -1.26935437e-01, -8.21741298e-02,  2.74210095e-01,\n",
       "         9.49538499e-02, -1.17289513e-01, -9.49264839e-02, -1.75545543e-01,\n",
       "         3.37264240e-02, -2.08480164e-01, -8.98559391e-02,  1.35834515e-01,\n",
       "         1.21459514e-01,  5.26671447e-02, -7.85357356e-02, -1.38883330e-02,\n",
       "         3.44770006e-03,  5.95685691e-02,  1.30519092e-01, -1.28386602e-01,\n",
       "         9.01534930e-02,  7.31256530e-02, -1.94634255e-02,  1.17376871e-01,\n",
       "         1.67697188e-04,  4.33479100e-02, -1.57258630e-01,  1.38467610e-01,\n",
       "         8.46170783e-02,  7.77027458e-02,  8.34437460e-02, -2.43678018e-02,\n",
       "        -8.29226896e-02,  1.89361051e-01,  1.67503580e-01,  2.07188442e-01,\n",
       "        -1.92358971e-01,  1.90954044e-01, -8.66395757e-02,  8.63512680e-02,\n",
       "         8.16990361e-02, -2.30716318e-02,  1.48350254e-01,  9.33871120e-02,\n",
       "        -1.03444301e-01,  3.32759172e-02, -1.03499167e-01,  2.95007881e-02,\n",
       "        -4.18480560e-02,  1.48850128e-01, -1.25358477e-01,  2.33333096e-01,\n",
       "        -1.20942295e-01,  1.06142171e-01,  1.28692985e-01,  1.23203449e-01,\n",
       "         1.00113675e-01, -1.41250789e-02,  1.63177848e-01,  1.50014937e-01,\n",
       "        -1.95683893e-02,  1.19940504e-01,  2.54336447e-01,  2.12510210e-02,\n",
       "         1.35626718e-01, -1.89367294e-01,  1.02768317e-01, -7.30541497e-02],\n",
       "       dtype=float32),\n",
       " array([-0.02265889,  0.05778723, -0.01179005, -0.00284239,  0.04882376,\n",
       "        -0.23377152,  0.13176689,  0.3085964 , -0.16563822, -0.00594464,\n",
       "        -0.06069683, -0.16251391, -0.04316762,  0.19339406, -0.00984798,\n",
       "         0.00349556, -0.03423214, -0.15440044, -0.15881209, -0.36713216,\n",
       "         0.0536154 , -0.02835809, -0.01769544, -0.04901092, -0.05845137,\n",
       "        -0.06207271,  0.01982044, -0.07527879, -0.0646024 ,  0.04246312,\n",
       "         0.17291646, -0.03934861,  0.15174052, -0.11018316, -0.1073219 ,\n",
       "         0.25728288,  0.10440008, -0.15727909, -0.0763182 , -0.1741864 ,\n",
       "         0.02225032, -0.2151592 , -0.09898599,  0.08515406,  0.14156315,\n",
       "         0.04146844, -0.080073  , -0.02897993,  0.03221606,  0.05149914,\n",
       "         0.13052906, -0.13760065,  0.0776631 ,  0.07678478, -0.00785946,\n",
       "         0.10275181, -0.01308092,  0.06987558, -0.16492371,  0.15031946,\n",
       "         0.07514932,  0.06996216,  0.08479748,  0.00843247, -0.08604642,\n",
       "         0.19633524,  0.18013164,  0.14563482, -0.19318359,  0.18252854,\n",
       "        -0.10180707,  0.07443867,  0.04677813, -0.07124216,  0.16272344,\n",
       "         0.05405647, -0.0953992 ,  0.04183496, -0.10839124, -0.01641163,\n",
       "        -0.00933946,  0.11554954, -0.13658553,  0.22137882, -0.13358647,\n",
       "         0.06070266,  0.13194123,  0.11046906,  0.12901476, -0.01263191,\n",
       "         0.16108233,  0.17001428,  0.02732584,  0.10106397,  0.21696223,\n",
       "         0.00993073,  0.13067529, -0.19392748,  0.11318995, -0.02350748],\n",
       "       dtype=float32),\n",
       " array([-3.12990844e-02,  6.58327192e-02,  2.85430159e-03,  1.10345073e-02,\n",
       "        -7.04743201e-03, -2.36223593e-01,  1.33402810e-01,  3.03116202e-01,\n",
       "        -2.05681935e-01,  6.48758421e-03, -8.28733593e-02, -1.69779241e-01,\n",
       "        -5.81854694e-02,  1.80510432e-01, -4.00698669e-02,  3.47116366e-02,\n",
       "        -1.62971541e-02, -1.29537463e-01, -9.92213637e-02, -3.68670791e-01,\n",
       "         4.55319285e-02,  8.06765445e-03, -1.78291200e-04, -6.00495152e-02,\n",
       "        -5.73267005e-02, -4.28762138e-02, -3.84912407e-03, -6.40033185e-02,\n",
       "        -7.08072856e-02,  4.36537573e-03,  2.26468816e-01, -4.98397388e-02,\n",
       "         1.30335823e-01, -1.16139121e-01, -8.42535719e-02,  2.86336660e-01,\n",
       "         1.00505255e-01, -1.20256521e-01, -9.17292535e-02, -1.76113561e-01,\n",
       "         2.96843071e-02, -2.00398415e-01, -9.28441510e-02,  1.45912632e-01,\n",
       "         1.11865871e-01,  5.49624115e-02, -6.89490139e-02, -1.83873083e-02,\n",
       "        -1.00601949e-02,  6.59109801e-02,  1.25353217e-01, -1.26397550e-01,\n",
       "         9.62558836e-02,  5.71697466e-02, -2.06405111e-02,  1.16529934e-01,\n",
       "        -8.17977940e-04,  2.92389747e-02, -1.62125885e-01,  1.34710684e-01,\n",
       "         6.75722361e-02,  8.40188041e-02,  8.42126012e-02, -1.94504112e-02,\n",
       "        -1.00880139e-01,  1.89215228e-01,  1.60290688e-01,  2.12331533e-01,\n",
       "        -2.03707144e-01,  2.01542258e-01, -9.25249755e-02,  9.14819315e-02,\n",
       "         8.59961137e-02, -2.71495730e-02,  1.61703631e-01,  9.22792554e-02,\n",
       "        -1.11497119e-01,  5.09562343e-02, -1.00743666e-01,  3.40460427e-02,\n",
       "        -5.15895225e-02,  1.68939248e-01, -1.28210068e-01,  2.49226272e-01,\n",
       "        -1.33621320e-01,  1.16187118e-01,  1.42963469e-01,  1.47219375e-01,\n",
       "         1.09663606e-01,  5.80039807e-03,  1.60661057e-01,  1.45263568e-01,\n",
       "        -1.83158442e-02,  1.16535008e-01,  2.47885883e-01,  1.26237087e-02,\n",
       "         1.36337191e-01, -1.75651938e-01,  1.01963326e-01, -7.20273107e-02],\n",
       "       dtype=float32),\n",
       " array([-0.01135001,  0.05962004,  0.03272124, -0.01768819,  0.04998965,\n",
       "        -0.20870571,  0.14685056,  0.2836007 , -0.18323691, -0.03109219,\n",
       "        -0.03263121, -0.22973996, -0.04514541,  0.15115191, -0.02573079,\n",
       "         0.00774679, -0.00233633, -0.1304845 , -0.14386515, -0.31636477,\n",
       "         0.06311441,  0.00088838, -0.02058102, -0.03525062, -0.05741948,\n",
       "        -0.08361816,  0.04948161, -0.06476792, -0.02724299,  0.00202177,\n",
       "         0.18204965, -0.03211843,  0.15414716, -0.11622933, -0.12767726,\n",
       "         0.25150353,  0.13327569, -0.16982682, -0.09414072, -0.16327456,\n",
       "         0.01518478, -0.16644533, -0.0390787 ,  0.10758833,  0.1320721 ,\n",
       "         0.01700985, -0.06482255, -0.01300713,  0.01951688,  0.04992113,\n",
       "         0.12908201, -0.15448081,  0.05776305,  0.0506245 , -0.04097727,\n",
       "         0.08827188,  0.02562736,  0.04502805, -0.13268901,  0.15970598,\n",
       "         0.0415643 ,  0.10894849,  0.1138011 , -0.03124123, -0.09126465,\n",
       "         0.17592564,  0.11290699,  0.18183088, -0.17974737,  0.15896654,\n",
       "        -0.07602367,  0.10534283,  0.06435065, -0.05782789,  0.17650633,\n",
       "         0.06925058, -0.07527371,  0.04818593, -0.11926682, -0.00753901,\n",
       "        -0.03426384,  0.13999003, -0.1504484 ,  0.19165526, -0.14357014,\n",
       "         0.09853069,  0.1328372 ,  0.13577645,  0.12897931, -0.0323601 ,\n",
       "         0.11762244,  0.17293827, -0.00854158,  0.07778574,  0.22550419,\n",
       "         0.03845395,  0.1585336 , -0.14676552,  0.14424598, -0.03719835],\n",
       "       dtype=float32)]"
      ]
     },
     "execution_count": 16,
     "metadata": {},
     "output_type": "execute_result"
    }
   ],
   "source": [
    "selected_words = [\"court\", \"plaintiff\", \"defendant\", \"guilty\", \"jury\",\n",
    "\"patient\", \"doctor\", \"hospital\", \"surgery\",\n",
    "\"emergency\"]\n",
    "word_vectors = [domain_word2vec.wv[word] for word in selected_words]\n",
    "word_vectors"
   ]
  },
  {
   "cell_type": "code",
   "execution_count": 17,
   "metadata": {
    "colab": {
     "base_uri": "https://localhost:8080/"
    },
    "executionInfo": {
     "elapsed": 26,
     "status": "ok",
     "timestamp": 1744255352009,
     "user": {
      "displayName": "aiml atme",
      "userId": "03087314293290754859"
     },
     "user_tz": -330
    },
    "id": "x6cK6oSrsmzR",
    "outputId": "303b3b1e-cb7b-4e02-9868-bc62da5bdda7"
   },
   "outputs": [
    {
     "data": {
      "text/plain": [
       "array([[ 0.06908131,  0.0287464 ],\n",
       "       [ 0.14953919, -0.01964696],\n",
       "       [-0.16693931, -0.13033459],\n",
       "       [-0.0674262 , -0.16882876],\n",
       "       [ 0.1574409 , -0.07644414],\n",
       "       [ 0.11961383,  0.04956438],\n",
       "       [-0.1142199 ,  0.10011148],\n",
       "       [-0.06259862,  0.0240761 ],\n",
       "       [-0.12848931,  0.12535115],\n",
       "       [ 0.04399811,  0.06740492]])"
      ]
     },
     "execution_count": 17,
     "metadata": {},
     "output_type": "execute_result"
    }
   ],
   "source": [
    "pca = PCA(n_components=2)\n",
    "reduced_vectors = pca.fit_transform(word_vectors)\n",
    "reduced_vectors"
   ]
  },
  {
   "cell_type": "code",
   "execution_count": 18,
   "metadata": {
    "colab": {
     "base_uri": "https://localhost:8080/",
     "height": 613
    },
    "executionInfo": {
     "elapsed": 417,
     "status": "ok",
     "timestamp": 1744255370334,
     "user": {
      "displayName": "aiml atme",
      "userId": "03087314293290754859"
     },
     "user_tz": -330
    },
    "id": "LI8pX0DFspFp",
    "outputId": "38f3811c-a04a-4da6-c5c8-068b21686d5a"
   },
   "outputs": [
    {
     "data": {
      "image/png": "[encoded data removed]",
      "text/plain": [
       "<Figure size 1200x800 with 1 Axes>"
      ]
     },
     "metadata": {},
     "output_type": "display_data"
    }
   ],
   "source": [
    "plt.figure(figsize=(12, 8))\n",
    "for i, word in enumerate(selected_words):\n",
    "  plt.scatter(reduced_vectors[i, 0], reduced_vectors[i, 1])\n",
    "  plt.text(reduced_vectors[i, 0] + 0.002, reduced_vectors[i, 1],word, fontsize=12)\n",
    "plt.title(\"PCA Visualization of Legal and Medical Word Embeddings\")\n",
    "plt.xlabel(\"PCA Dimension 1\")\n",
    "plt.ylabel(\"PCA Dimension 2\")\n",
    "plt.show()"
   ]
  }
 ],
 "metadata": {
  "colab": {
   "authorship_tag": "ABX9TyPw5hogd83Muhrprfc1IbwK",
   "provenance": []
  },
  "kernelspec": {
   "display_name": "Python 3",
   "name": "python3"
  },
  "language_info": {
   "name": "python"
  }
 },
 "nbformat": 4,
 "nbformat_minor": 0
}
